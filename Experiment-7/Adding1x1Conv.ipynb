{
  "nbformat": 4,
  "nbformat_minor": 0,
  "metadata": {
    "colab": {
      "provenance": []
    },
    "kernelspec": {
      "name": "python3",
      "display_name": "Python 3"
    },
    "language_info": {
      "name": "python"
    }
  },
  "cells": [
    {
      "cell_type": "markdown",
      "source": [
        "**Implemented by: Anika Shrivastava**"
      ],
      "metadata": {
        "id": "KsY1TJHwpF1f"
      }
    },
    {
      "cell_type": "markdown",
      "source": [
        "## **important imports**\n",
        "\n"
      ],
      "metadata": {
        "id": "A411MJsxe6HW"
      }
    },
    {
      "cell_type": "code",
      "execution_count": 1,
      "metadata": {
        "id": "gWNiWidzf-iy"
      },
      "outputs": [],
      "source": [
        "import numpy as np\n",
        "import matplotlib.pyplot as plt\n",
        "import tensorflow as tf\n",
        "from tensorflow.keras.preprocessing import image\n",
        "import os\n",
        "import random\n",
        "import cv2\n",
        "from tensorflow.keras.models import Sequential,Model\n",
        "from tensorflow.keras.layers import Dense,Conv2D,MaxPooling2D,UpSampling2D,Flatten,Input, LeakyReLU, Add, Concatenate, concatenate\n",
        "import tensorflow as tf\n",
        "from tensorflow.keras.layers import Conv2D, Conv2DTranspose\n",
        "from tensorflow.keras.models import load_model\n",
        "import math\n",
        "import pandas as pd\n",
        "#import seaborn as sns\n",
        "from sklearn.metrics import confusion_matrix\n",
        "from sklearn.metrics import ConfusionMatrixDisplay\n",
        "from sklearn.decomposition import PCA\n",
        "import tensorflow as tf\n",
        "from tensorflow import keras\n",
        "from tensorflow.keras.models import Model\n",
        "from tensorflow.keras.layers import Input, Dense, Flatten\n",
        "from tensorflow.keras.optimizers import SGD, Adam\n",
        "from tensorflow.keras.callbacks import EarlyStopping\n",
        "from tensorflow.keras import initializers\n",
        "from sklearn.manifold import TSNE\n",
        "import matplotlib.pyplot as plt\n",
        "from matplotlib.colors import ListedColormap"
      ]
    },
    {
      "cell_type": "markdown",
      "source": [
        "### **drive mounted**"
      ],
      "metadata": {
        "id": "4O1tdefsf1CZ"
      }
    },
    {
      "cell_type": "code",
      "execution_count": 2,
      "metadata": {
        "id": "PnmHKuNygJ0k",
        "colab": {
          "base_uri": "https://localhost:8080/"
        },
        "outputId": "f262ed6c-64f2-47f9-9f62-59f961f213c7"
      },
      "outputs": [
        {
          "output_type": "stream",
          "name": "stdout",
          "text": [
            "Mounted at /content/drive/\n"
          ]
        }
      ],
      "source": [
        "from google.colab import drive\n",
        "drive.mount('/content/drive/')"
      ]
    },
    {
      "cell_type": "markdown",
      "source": [
        "### **reading the images**"
      ],
      "metadata": {
        "id": "i8MjvTXzh72E"
      }
    },
    {
      "cell_type": "code",
      "execution_count": 3,
      "metadata": {
        "id": "C6ywxC-_gRNt"
      },
      "outputs": [],
      "source": [
        "def read(path):\n",
        "    path = path\n",
        "    dataset = []\n",
        "\n",
        "    for filename in os.listdir(path):\n",
        "        if filename.endswith(\".jpg\"):\n",
        "            image_path = os.path.join(path, filename)\n",
        "            img = image.load_img(image_path,target_size=(256,256,3),color_mode= 'rgb')\n",
        "            img=image.img_to_array(img)\n",
        "            img=img/255\n",
        "            dataset.append(img)\n",
        "    dataset= np.array(dataset)\n",
        "    return dataset"
      ]
    },
    {
      "cell_type": "markdown",
      "source": [
        "### **Dataset BSDS300 can be accessed from the link: https://www.kaggle.com/datasets/adheshgarg/bsds300**"
      ],
      "metadata": {
        "id": "ECVZIWtG1N5j"
      }
    },
    {
      "cell_type": "code",
      "execution_count": 4,
      "metadata": {
        "id": "9RTN_tOigkCX"
      },
      "outputs": [],
      "source": [
        "path = '/content/drive/MyDrive/Colab Notebooks/BSDS300_all'    # change the path accrodingly\n",
        "dataset = read(path)"
      ]
    },
    {
      "cell_type": "code",
      "execution_count": 5,
      "metadata": {
        "colab": {
          "base_uri": "https://localhost:8080/"
        },
        "id": "HPRwvpljgj_B",
        "outputId": "0b1b058f-3968-4863-e4c1-3c29a4d68478"
      },
      "outputs": [
        {
          "output_type": "execute_result",
          "data": {
            "text/plain": [
              "(300, 256, 256, 3)"
            ]
          },
          "metadata": {},
          "execution_count": 5
        }
      ],
      "source": [
        "dataset.shape"
      ]
    },
    {
      "cell_type": "code",
      "execution_count": 6,
      "metadata": {
        "id": "wYnIHcJriRhS"
      },
      "outputs": [],
      "source": [
        "def show_img(dataset):\n",
        "    fig, ax = plt.subplots(1,4)\n",
        "    fig.set_size_inches(40, 20)\n",
        "    for i in range(4,8):\n",
        "        ax[i-4].imshow(dataset[i].reshape(256,256,3))\n",
        "    plt.show()\n",
        "\n",
        "def psnr(img1, img2):\n",
        "    mse = np.mean((img1 - img2) ** 2)\n",
        "    if mse == 0:\n",
        "        return 100\n",
        "    PIXEL_MAX = 1.0\n",
        "    return 20 * math.log10(PIXEL_MAX / math.sqrt(mse))             #20"
      ]
    },
    {
      "cell_type": "code",
      "execution_count": 7,
      "metadata": {
        "id": "6auhBPIriRoC"
      },
      "outputs": [],
      "source": [
        "train=dataset[0:150]\n",
        "val=dataset[150:200]\n",
        "test= dataset[200:300]"
      ]
    },
    {
      "cell_type": "markdown",
      "source": [
        "## **Experiment-7 (Analyzing the impact of adding 1x1 Conv layer in 32x32x8 , 16x16x8, 8x8x8 models)**"
      ],
      "metadata": {
        "id": "9zGIuIFwPg4D"
      }
    },
    {
      "cell_type": "markdown",
      "source": [
        "![image.png](data:image/png;base64,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)"
      ],
      "metadata": {
        "id": "lJE3O1U335vx"
      }
    },
    {
      "cell_type": "markdown",
      "source": [
        "## 32x32x8 with 1x1 Conv layer\n",
        "(32x32x1 : 1,024 in bottleneck)"
      ],
      "metadata": {
        "id": "hTK7orIWsi3J"
      }
    },
    {
      "cell_type": "code",
      "source": [
        "# Input layer for 256x256x3 images\n",
        "input_img = Input(shape=(256, 256, 3))\n",
        "\n",
        "# Encoder\n",
        "x1 = Conv2D(32, (3, 3), activation='relu', padding='same')(input_img)\n",
        "x1 = Conv2D(32, (3, 3), activation='relu', padding='same')(x1)\n",
        "# p1 = Dropout(0.3)(x1)\n",
        "p1 = MaxPooling2D((2, 2), padding='same')(x1)\n",
        "\n",
        "\n",
        "x2 = Conv2D(64, (3, 3), activation='relu', padding='same')(p1)\n",
        "x2 = Conv2D(64, (3, 3), activation='relu', padding='same')(x2)\n",
        "# p2 = Dropout(0.3)(x2)\n",
        "p2 = MaxPooling2D((2, 2), padding='same')(x2)\n",
        "\n",
        "\n",
        "x3 = Conv2D(128, (3, 3), activation='relu', padding='same')(p2)\n",
        "x3 = Conv2D(8, (3, 3), activation='relu', padding='same')(x3)\n",
        "encoded = MaxPooling2D((2, 2), padding='same')(x3)\n",
        "\n",
        "# 1x1 Conv layer\n",
        "x1x1= Conv2D(1,(1,1),activation='relu',padding='same')(encoded)\n",
        "\n",
        "# Decoder\n",
        "x = Conv2D(8, (3, 3), activation='relu', padding='same')(x1x1)\n",
        "x = UpSampling2D((2, 2))(x)\n",
        "x = concatenate([x, x3], axis=-1)  # Adding skip connection\n",
        "x = Conv2D(64, (3, 3), activation='relu', padding='same')(x)\n",
        "x = UpSampling2D((2, 2))(x)\n",
        "x = concatenate([x, x2], axis=-1)  # Adding skip connection\n",
        "x = Conv2D(32, (3, 3), activation='relu', padding='same')(x)\n",
        "x = UpSampling2D((2, 2))(x)\n",
        "x = concatenate([x, x1], axis=-1)  # Adding skip connection\n",
        "decoded = Conv2D(3, (3, 3), activation='sigmoid', padding='same')(x)\n",
        "\n",
        "# This model maps an input to its reconstruction\n",
        "autoencoder14 = Model(input_img, decoded)\n",
        "autoencoder14.compile(optimizer='adam', loss='mse')\n",
        "autoencoder14.summary()"
      ],
      "metadata": {
        "colab": {
          "base_uri": "https://localhost:8080/"
        },
        "id": "vCl-Sj4ysjTn",
        "outputId": "b6639240-f298-4f82-a3c2-aed10c84b5d6"
      },
      "execution_count": 8,
      "outputs": [
        {
          "output_type": "stream",
          "name": "stdout",
          "text": [
            "Model: \"model\"\n",
            "__________________________________________________________________________________________________\n",
            " Layer (type)                Output Shape                 Param #   Connected to                  \n",
            "==================================================================================================\n",
            " input_1 (InputLayer)        [(None, 256, 256, 3)]        0         []                            \n",
            "                                                                                                  \n",
            " conv2d (Conv2D)             (None, 256, 256, 32)         896       ['input_1[0][0]']             \n",
            "                                                                                                  \n",
            " conv2d_1 (Conv2D)           (None, 256, 256, 32)         9248      ['conv2d[0][0]']              \n",
            "                                                                                                  \n",
            " max_pooling2d (MaxPooling2  (None, 128, 128, 32)         0         ['conv2d_1[0][0]']            \n",
            " D)                                                                                               \n",
            "                                                                                                  \n",
            " conv2d_2 (Conv2D)           (None, 128, 128, 64)         18496     ['max_pooling2d[0][0]']       \n",
            "                                                                                                  \n",
            " conv2d_3 (Conv2D)           (None, 128, 128, 64)         36928     ['conv2d_2[0][0]']            \n",
            "                                                                                                  \n",
            " max_pooling2d_1 (MaxPoolin  (None, 64, 64, 64)           0         ['conv2d_3[0][0]']            \n",
            " g2D)                                                                                             \n",
            "                                                                                                  \n",
            " conv2d_4 (Conv2D)           (None, 64, 64, 128)          73856     ['max_pooling2d_1[0][0]']     \n",
            "                                                                                                  \n",
            " conv2d_5 (Conv2D)           (None, 64, 64, 8)            9224      ['conv2d_4[0][0]']            \n",
            "                                                                                                  \n",
            " max_pooling2d_2 (MaxPoolin  (None, 32, 32, 8)            0         ['conv2d_5[0][0]']            \n",
            " g2D)                                                                                             \n",
            "                                                                                                  \n",
            " conv2d_6 (Conv2D)           (None, 32, 32, 1)            9         ['max_pooling2d_2[0][0]']     \n",
            "                                                                                                  \n",
            " conv2d_7 (Conv2D)           (None, 32, 32, 8)            80        ['conv2d_6[0][0]']            \n",
            "                                                                                                  \n",
            " up_sampling2d (UpSampling2  (None, 64, 64, 8)            0         ['conv2d_7[0][0]']            \n",
            " D)                                                                                               \n",
            "                                                                                                  \n",
            " concatenate (Concatenate)   (None, 64, 64, 16)           0         ['up_sampling2d[0][0]',       \n",
            "                                                                     'conv2d_5[0][0]']            \n",
            "                                                                                                  \n",
            " conv2d_8 (Conv2D)           (None, 64, 64, 64)           9280      ['concatenate[0][0]']         \n",
            "                                                                                                  \n",
            " up_sampling2d_1 (UpSamplin  (None, 128, 128, 64)         0         ['conv2d_8[0][0]']            \n",
            " g2D)                                                                                             \n",
            "                                                                                                  \n",
            " concatenate_1 (Concatenate  (None, 128, 128, 128)        0         ['up_sampling2d_1[0][0]',     \n",
            " )                                                                   'conv2d_3[0][0]']            \n",
            "                                                                                                  \n",
            " conv2d_9 (Conv2D)           (None, 128, 128, 32)         36896     ['concatenate_1[0][0]']       \n",
            "                                                                                                  \n",
            " up_sampling2d_2 (UpSamplin  (None, 256, 256, 32)         0         ['conv2d_9[0][0]']            \n",
            " g2D)                                                                                             \n",
            "                                                                                                  \n",
            " concatenate_2 (Concatenate  (None, 256, 256, 64)         0         ['up_sampling2d_2[0][0]',     \n",
            " )                                                                   'conv2d_1[0][0]']            \n",
            "                                                                                                  \n",
            " conv2d_10 (Conv2D)          (None, 256, 256, 3)          1731      ['concatenate_2[0][0]']       \n",
            "                                                                                                  \n",
            "==================================================================================================\n",
            "Total params: 196644 (768.14 KB)\n",
            "Trainable params: 196644 (768.14 KB)\n",
            "Non-trainable params: 0 (0.00 Byte)\n",
            "__________________________________________________________________________________________________\n"
          ]
        }
      ]
    },
    {
      "cell_type": "code",
      "source": [
        "history= autoencoder14.fit(train, train, epochs=10, batch_size=12, validation_data=(val, val))"
      ],
      "metadata": {
        "colab": {
          "base_uri": "https://localhost:8080/"
        },
        "id": "vQpWDRC0tw9r",
        "outputId": "332cda1d-7ae5-4af6-ee2e-a9570fa04431"
      },
      "execution_count": null,
      "outputs": [
        {
          "output_type": "stream",
          "name": "stdout",
          "text": [
            "Epoch 1/10\n",
            "13/13 [==============================] - 197s 15s/step - loss: 0.0594 - val_loss: 0.0558\n",
            "Epoch 2/10\n",
            "13/13 [==============================] - 123s 9s/step - loss: 0.0350 - val_loss: 0.0251\n",
            "Epoch 3/10\n",
            "13/13 [==============================] - 132s 10s/step - loss: 0.0206 - val_loss: 0.0160\n",
            "Epoch 4/10\n",
            "13/13 [==============================] - 114s 9s/step - loss: 0.0132 - val_loss: 0.0111\n",
            "Epoch 5/10\n",
            "13/13 [==============================] - 113s 9s/step - loss: 0.0091 - val_loss: 0.0085\n",
            "Epoch 6/10\n",
            "13/13 [==============================] - 159s 13s/step - loss: 0.0076 - val_loss: 0.0073\n",
            "Epoch 7/10\n",
            "13/13 [==============================] - 118s 9s/step - loss: 0.0074 - val_loss: 0.0084\n",
            "Epoch 8/10\n",
            "13/13 [==============================] - 117s 9s/step - loss: 0.0073 - val_loss: 0.0067\n",
            "Epoch 9/10\n",
            "13/13 [==============================] - 114s 9s/step - loss: 0.0061 - val_loss: 0.0059\n",
            "Epoch 10/10\n",
            "13/13 [==============================] - 111s 9s/step - loss: 0.0056 - val_loss: 0.0053\n"
          ]
        }
      ]
    },
    {
      "cell_type": "code",
      "source": [
        "# Plot training and validation loss\n",
        "plt.plot(history.history['loss'])\n",
        "plt.plot(history.history['val_loss'])\n",
        "plt.title('Model loss')\n",
        "plt.ylabel('Loss')\n",
        "plt.xlabel('Epoch')\n",
        "plt.legend(['Train', 'Validation'], loc='upper right')\n",
        "plt.show()"
      ],
      "metadata": {
        "colab": {
          "base_uri": "https://localhost:8080/",
          "height": 472
        },
        "id": "SobcD0QCt7Xt",
        "outputId": "a43b15b3-4ae0-48fa-ea8b-9457462b62a6"
      },
      "execution_count": null,
      "outputs": [
        {
          "output_type": "display_data",
          "data": {
            "text/plain": [
              "<Figure size 640x480 with 1 Axes>"
            ],
            "image/png": "[encoded data removed]"
          },
          "metadata": {}
        }
      ]
    },
    {
      "cell_type": "code",
      "source": [
        "test_pred= autoencoder14.predict(test)\n",
        "psnr_test=[]\n",
        "for i in range(0,100):\n",
        "  x= psnr(test[i],test_pred[i])\n",
        "  psnr_test.append(x)"
      ],
      "metadata": {
        "colab": {
          "base_uri": "https://localhost:8080/"
        },
        "id": "WYJztkVtyft7",
        "outputId": "fa24ecd3-50fe-4017-e8e7-4b22bf7660ae"
      },
      "execution_count": 11,
      "outputs": [
        {
          "output_type": "stream",
          "name": "stdout",
          "text": [
            "4/4 [==============================] - 19s 5s/step\n"
          ]
        }
      ]
    },
    {
      "cell_type": "code",
      "source": [
        "import statistics\n",
        "\n",
        "# Mean_test\n",
        "mean_value = statistics.mean(psnr_test)\n",
        "print(f\"MeanPSNR of test data: {mean_value}\")\n",
        "# Median_test\n",
        "median_value = statistics.median(psnr_test)\n",
        "print(f\"MedianPSNR of test data: {median_value}\")\n",
        "# Standard Deviation_test\n",
        "std_deviation = np.std(psnr_test)\n",
        "print(f\"Standard-DeviationPSNR of test data: {std_deviation}\")"
      ],
      "metadata": {
        "colab": {
          "base_uri": "https://localhost:8080/"
        },
        "id": "lIxcq60Fytb0",
        "outputId": "c52c3929-22c8-45e7-f927-e543c3c01245"
      },
      "execution_count": 12,
      "outputs": [
        {
          "output_type": "stream",
          "name": "stdout",
          "text": [
            "MeanPSNR of test data: 23.305103564826176\n",
            "MedianPSNR of test data: 23.16129867340704\n",
            "Standard-DeviationPSNR of test data: 2.2667695286238323\n"
          ]
        }
      ]
    },
    {
      "cell_type": "code",
      "source": [
        "autoencoder14.load_weights('/content/drive/MyDrive/Colab Notebooks/TryingDiffArch2/arch14.h5')         # repo contains the weights of the model"
      ],
      "metadata": {
        "id": "odtgCQhA8nyb"
      },
      "execution_count": 10,
      "outputs": []
    },
    {
      "cell_type": "markdown",
      "source": [
        "## 16x16x8: with Conv 1x1\n",
        "(16x16x1 : 256 in bottleneck)"
      ],
      "metadata": {
        "id": "gYd-phkCai19"
      }
    },
    {
      "cell_type": "code",
      "source": [
        "# Input layer for 256x256x3 images\n",
        "input_img = Input(shape=(256, 256, 3))\n",
        "\n",
        "# Encoder\n",
        "x1 = Conv2D(32, (3, 3), activation='relu', padding='same')(input_img)\n",
        "x1 = Conv2D(32, (3, 3), activation='relu', padding='same')(x1)\n",
        "p1 = MaxPooling2D((2, 2), padding='same')(x1)\n",
        "\n",
        "\n",
        "x2 = Conv2D(64, (3, 3), activation='relu', padding='same')(p1)\n",
        "x2 = Conv2D(64, (3, 3), activation='relu', padding='same')(x2)\n",
        "p2 = MaxPooling2D((2, 2), padding='same')(x2)\n",
        "\n",
        "\n",
        "x3 = Conv2D(128, (3, 3), activation='relu', padding='same')(p2)\n",
        "x3 = Conv2D(128, (3, 3), activation='relu', padding='same')(x3)\n",
        "p3 = MaxPooling2D((2, 2), padding='same')(x3)\n",
        "\n",
        "x4 = Conv2D(128, (3, 3), activation='relu', padding='same')(p3)    #learning even further\n",
        "x4 = Conv2D(8, (3, 3), activation='relu', padding='same')(x4)\n",
        "\n",
        "#bottleneck\n",
        "encoded = MaxPooling2D((2, 2), padding='same')(x4)\n",
        "\n",
        "# 1x1 Conv layer\n",
        "x1x1= Conv2D(1,(1,1),activation='relu',padding='same')(encoded)\n",
        "\n",
        "# Decoder\n",
        "x = Conv2D(8, (3, 3), activation='relu', padding='same')(x1x1)\n",
        "x = UpSampling2D((2, 2))(x)\n",
        "x = concatenate([x, x4], axis=-1)  # Adding skip connection\n",
        "x = Conv2D(128, (3, 3), activation='relu', padding='same')(x)\n",
        "x = UpSampling2D((2, 2))(x)\n",
        "x = concatenate([x, x3], axis=-1)  # Adding skip connection\n",
        "x = Conv2D(64, (3, 3), activation='relu', padding='same')(x)\n",
        "x = UpSampling2D((2, 2))(x)\n",
        "x = concatenate([x, x2], axis=-1)  # Adding skip connection\n",
        "x = Conv2D(32, (3, 3), activation='relu', padding='same')(x)\n",
        "x = UpSampling2D((2, 2))(x)\n",
        "x = concatenate([x, x1], axis=-1)  # Adding skip connection\n",
        "decoded = Conv2D(3, (3, 3), activation='sigmoid', padding='same')(x)\n",
        "\n",
        "autoencoder16 = Model(input_img,decoded)\n",
        "autoencoder16.compile(optimizer='adam', loss='mse')\n",
        "autoencoder16.summary()"
      ],
      "metadata": {
        "colab": {
          "base_uri": "https://localhost:8080/"
        },
        "outputId": "86c84e61-e3ed-4dcc-9d54-3d26fb783212",
        "id": "McMB1VfXai1-"
      },
      "execution_count": 13,
      "outputs": [
        {
          "output_type": "stream",
          "name": "stdout",
          "text": [
            "Model: \"model_1\"\n",
            "__________________________________________________________________________________________________\n",
            " Layer (type)                Output Shape                 Param #   Connected to                  \n",
            "==================================================================================================\n",
            " input_2 (InputLayer)        [(None, 256, 256, 3)]        0         []                            \n",
            "                                                                                                  \n",
            " conv2d_11 (Conv2D)          (None, 256, 256, 32)         896       ['input_2[0][0]']             \n",
            "                                                                                                  \n",
            " conv2d_12 (Conv2D)          (None, 256, 256, 32)         9248      ['conv2d_11[0][0]']           \n",
            "                                                                                                  \n",
            " max_pooling2d_3 (MaxPoolin  (None, 128, 128, 32)         0         ['conv2d_12[0][0]']           \n",
            " g2D)                                                                                             \n",
            "                                                                                                  \n",
            " conv2d_13 (Conv2D)          (None, 128, 128, 64)         18496     ['max_pooling2d_3[0][0]']     \n",
            "                                                                                                  \n",
            " conv2d_14 (Conv2D)          (None, 128, 128, 64)         36928     ['conv2d_13[0][0]']           \n",
            "                                                                                                  \n",
            " max_pooling2d_4 (MaxPoolin  (None, 64, 64, 64)           0         ['conv2d_14[0][0]']           \n",
            " g2D)                                                                                             \n",
            "                                                                                                  \n",
            " conv2d_15 (Conv2D)          (None, 64, 64, 128)          73856     ['max_pooling2d_4[0][0]']     \n",
            "                                                                                                  \n",
            " conv2d_16 (Conv2D)          (None, 64, 64, 128)          147584    ['conv2d_15[0][0]']           \n",
            "                                                                                                  \n",
            " max_pooling2d_5 (MaxPoolin  (None, 32, 32, 128)          0         ['conv2d_16[0][0]']           \n",
            " g2D)                                                                                             \n",
            "                                                                                                  \n",
            " conv2d_17 (Conv2D)          (None, 32, 32, 128)          147584    ['max_pooling2d_5[0][0]']     \n",
            "                                                                                                  \n",
            " conv2d_18 (Conv2D)          (None, 32, 32, 8)            9224      ['conv2d_17[0][0]']           \n",
            "                                                                                                  \n",
            " max_pooling2d_6 (MaxPoolin  (None, 16, 16, 8)            0         ['conv2d_18[0][0]']           \n",
            " g2D)                                                                                             \n",
            "                                                                                                  \n",
            " conv2d_19 (Conv2D)          (None, 16, 16, 1)            9         ['max_pooling2d_6[0][0]']     \n",
            "                                                                                                  \n",
            " conv2d_20 (Conv2D)          (None, 16, 16, 8)            80        ['conv2d_19[0][0]']           \n",
            "                                                                                                  \n",
            " up_sampling2d_3 (UpSamplin  (None, 32, 32, 8)            0         ['conv2d_20[0][0]']           \n",
            " g2D)                                                                                             \n",
            "                                                                                                  \n",
            " concatenate_3 (Concatenate  (None, 32, 32, 16)           0         ['up_sampling2d_3[0][0]',     \n",
            " )                                                                   'conv2d_18[0][0]']           \n",
            "                                                                                                  \n",
            " conv2d_21 (Conv2D)          (None, 32, 32, 128)          18560     ['concatenate_3[0][0]']       \n",
            "                                                                                                  \n",
            " up_sampling2d_4 (UpSamplin  (None, 64, 64, 128)          0         ['conv2d_21[0][0]']           \n",
            " g2D)                                                                                             \n",
            "                                                                                                  \n",
            " concatenate_4 (Concatenate  (None, 64, 64, 256)          0         ['up_sampling2d_4[0][0]',     \n",
            " )                                                                   'conv2d_16[0][0]']           \n",
            "                                                                                                  \n",
            " conv2d_22 (Conv2D)          (None, 64, 64, 64)           147520    ['concatenate_4[0][0]']       \n",
            "                                                                                                  \n",
            " up_sampling2d_5 (UpSamplin  (None, 128, 128, 64)         0         ['conv2d_22[0][0]']           \n",
            " g2D)                                                                                             \n",
            "                                                                                                  \n",
            " concatenate_5 (Concatenate  (None, 128, 128, 128)        0         ['up_sampling2d_5[0][0]',     \n",
            " )                                                                   'conv2d_14[0][0]']           \n",
            "                                                                                                  \n",
            " conv2d_23 (Conv2D)          (None, 128, 128, 32)         36896     ['concatenate_5[0][0]']       \n",
            "                                                                                                  \n",
            " up_sampling2d_6 (UpSamplin  (None, 256, 256, 32)         0         ['conv2d_23[0][0]']           \n",
            " g2D)                                                                                             \n",
            "                                                                                                  \n",
            " concatenate_6 (Concatenate  (None, 256, 256, 64)         0         ['up_sampling2d_6[0][0]',     \n",
            " )                                                                   'conv2d_12[0][0]']           \n",
            "                                                                                                  \n",
            " conv2d_24 (Conv2D)          (None, 256, 256, 3)          1731      ['concatenate_6[0][0]']       \n",
            "                                                                                                  \n",
            "==================================================================================================\n",
            "Total params: 648612 (2.47 MB)\n",
            "Trainable params: 648612 (2.47 MB)\n",
            "Non-trainable params: 0 (0.00 Byte)\n",
            "__________________________________________________________________________________________________\n"
          ]
        }
      ]
    },
    {
      "cell_type": "code",
      "source": [
        "history= autoencoder16.fit(train, train, epochs=10, batch_size=12, validation_data=(val, val))"
      ],
      "metadata": {
        "colab": {
          "base_uri": "https://localhost:8080/"
        },
        "outputId": "a89c7d9c-7048-44e3-9407-acf804402ba8",
        "id": "-h18dXEvai1_"
      },
      "execution_count": null,
      "outputs": [
        {
          "output_type": "stream",
          "name": "stdout",
          "text": [
            "Epoch 1/10\n",
            "13/13 [==============================] - 146s 11s/step - loss: 0.0636 - val_loss: 0.0638\n",
            "Epoch 2/10\n",
            "13/13 [==============================] - 139s 11s/step - loss: 0.0446 - val_loss: 0.0265\n",
            "Epoch 3/10\n",
            "13/13 [==============================] - 137s 11s/step - loss: 0.0227 - val_loss: 0.0158\n",
            "Epoch 4/10\n",
            "13/13 [==============================] - 142s 11s/step - loss: 0.0133 - val_loss: 0.0117\n",
            "Epoch 5/10\n",
            "13/13 [==============================] - 137s 11s/step - loss: 0.0098 - val_loss: 0.0101\n",
            "Epoch 6/10\n",
            "13/13 [==============================] - 137s 11s/step - loss: 0.0082 - val_loss: 0.0087\n",
            "Epoch 7/10\n",
            "13/13 [==============================] - 138s 11s/step - loss: 0.0073 - val_loss: 0.0067\n",
            "Epoch 8/10\n",
            "13/13 [==============================] - 140s 11s/step - loss: 0.0062 - val_loss: 0.0061\n",
            "Epoch 9/10\n",
            "13/13 [==============================] - 139s 11s/step - loss: 0.0055 - val_loss: 0.0054\n",
            "Epoch 10/10\n",
            "13/13 [==============================] - 136s 11s/step - loss: 0.0048 - val_loss: 0.0048\n"
          ]
        }
      ]
    },
    {
      "cell_type": "code",
      "source": [
        "# Plot training and validation loss\n",
        "plt.plot(history.history['loss'])\n",
        "plt.plot(history.history['val_loss'])\n",
        "plt.title('Model loss')\n",
        "plt.ylabel('Loss')\n",
        "plt.xlabel('Epoch')\n",
        "plt.legend(['Train', 'Validation'], loc='upper right')\n",
        "plt.show()"
      ],
      "metadata": {
        "colab": {
          "base_uri": "https://localhost:8080/",
          "height": 472
        },
        "outputId": "bc861e80-216e-425f-c9c0-37e1c1b34270",
        "id": "stvfnzzLai1_"
      },
      "execution_count": null,
      "outputs": [
        {
          "output_type": "display_data",
          "data": {
            "text/plain": [
              "<Figure size 640x480 with 1 Axes>"
            ],
            "image/png": "[encoded data removed]"
          },
          "metadata": {}
        }
      ]
    },
    {
      "cell_type": "code",
      "source": [
        "test_pred= autoencoder16.predict(test)\n",
        "psnr_test=[]\n",
        "for i in range(0,100):\n",
        "  x= psnr(test[i],test_pred[i])\n",
        "  psnr_test.append(x)"
      ],
      "metadata": {
        "colab": {
          "base_uri": "https://localhost:8080/"
        },
        "outputId": "fc8afdc0-9286-4ad0-dc1a-fc58a3c28a25",
        "id": "K9aA_SqGai2A"
      },
      "execution_count": 15,
      "outputs": [
        {
          "output_type": "stream",
          "name": "stdout",
          "text": [
            "4/4 [==============================] - 26s 6s/step\n"
          ]
        }
      ]
    },
    {
      "cell_type": "code",
      "source": [
        "import statistics\n",
        "\n",
        "# Mean_test\n",
        "mean_value = statistics.mean(psnr_test)\n",
        "print(f\"MeanPSNR of test data: {mean_value}\")\n",
        "# Median_test\n",
        "median_value = statistics.median(psnr_test)\n",
        "print(f\"MedianPSNR of test data: {median_value}\")\n",
        "# Standard Deviation_test\n",
        "std_deviation = np.std(psnr_test)\n",
        "print(f\"Standard-DeviationPSNR of test data: {std_deviation}\")"
      ],
      "metadata": {
        "colab": {
          "base_uri": "https://localhost:8080/"
        },
        "outputId": "a607bda4-1e45-4cd5-e2cd-d80909c834bd",
        "id": "m0Jjkz-9ai2A"
      },
      "execution_count": 16,
      "outputs": [
        {
          "output_type": "stream",
          "name": "stdout",
          "text": [
            "MeanPSNR of test data: 23.944490613940264\n",
            "MedianPSNR of test data: 23.651272324928435\n",
            "Standard-DeviationPSNR of test data: 2.3131332565889577\n"
          ]
        }
      ]
    },
    {
      "cell_type": "code",
      "source": [
        "autoencoder16.load_weights('/content/drive/MyDrive/Colab Notebooks/TryingDiffArch2/arch16.h5')        # repo contains the weights of the model"
      ],
      "metadata": {
        "id": "miF57laMai2B"
      },
      "execution_count": 14,
      "outputs": []
    },
    {
      "cell_type": "markdown",
      "source": [
        "## 8x8x8: with Conv 1x1\n",
        "(8x8x1 : 64 in bottleneck)"
      ],
      "metadata": {
        "id": "zpxeSn6hakOH"
      }
    },
    {
      "cell_type": "code",
      "source": [
        "# Input layer for 256x256x3 images\n",
        "input_img = Input(shape=(256, 256, 3))\n",
        "\n",
        "# Encoder\n",
        "x1 = Conv2D(32, (3, 3), activation='relu', padding='same')(input_img)\n",
        "x1 = Conv2D(32, (3, 3), activation='relu', padding='same')(x1)\n",
        "p1 = MaxPooling2D((2, 2), padding='same')(x1)\n",
        "\n",
        "\n",
        "x2 = Conv2D(64, (3, 3), activation='relu', padding='same')(p1)\n",
        "x2 = Conv2D(64, (3, 3), activation='relu', padding='same')(x2)\n",
        "p2 = MaxPooling2D((2, 2), padding='same')(x2)\n",
        "\n",
        "\n",
        "x3 = Conv2D(128, (3, 3), activation='relu', padding='same')(p2)\n",
        "x3 = Conv2D(128, (3, 3), activation='relu', padding='same')(x3)\n",
        "p3 = MaxPooling2D((2, 2), padding='same')(x3)\n",
        "\n",
        "x4 = Conv2D(128, (3, 3), activation='relu', padding='same')(p3)\n",
        "x4 = Conv2D(128, (3, 3), activation='relu', padding='same')(x4)\n",
        "p4 = MaxPooling2D((2, 2), padding='same')(x4)\n",
        "\n",
        "x5 = Conv2D(128, (3, 3), activation='relu', padding='same')(p4)\n",
        "x5 = Conv2D(8, (3, 3), activation='relu', padding='same')(x5)\n",
        "\n",
        "#bottleneck\n",
        "encoded = MaxPooling2D((2, 2), padding='same')(x5)\n",
        "\n",
        "# 1x1 Conv\n",
        "x1x1= Conv2D(1, (1,1), activation='relu', padding='same')(encoded)\n",
        "\n",
        "# Decoder\n",
        "x = Conv2D(8, (3, 3), activation='relu', padding='same')(x1x1)\n",
        "x = UpSampling2D((2, 2))(x)\n",
        "x = concatenate([x, x5], axis=-1)  # Adding skip connection\n",
        "x = Conv2D(128, (3, 3), activation='relu', padding='same')(x)\n",
        "x = UpSampling2D((2, 2))(x)\n",
        "x = concatenate([x, x4], axis=-1)  # Adding skip connection\n",
        "x = Conv2D(128, (3, 3), activation='relu', padding='same')(x)\n",
        "x = UpSampling2D((2, 2))(x)\n",
        "x = concatenate([x, x3], axis=-1)  # Adding skip connection\n",
        "x = Conv2D(64, (3, 3), activation='relu', padding='same')(x)\n",
        "x = UpSampling2D((2, 2))(x)\n",
        "x = concatenate([x, x2], axis=-1)  # Adding skip connection\n",
        "x = Conv2D(32, (3, 3), activation='relu', padding='same')(x)\n",
        "x = UpSampling2D((2, 2))(x)\n",
        "x = concatenate([x, x1], axis=-1)  # Adding skip connection\n",
        "decoded = Conv2D(3, (3, 3), activation='sigmoid', padding='same')(x)\n",
        "\n",
        "autoencoder18 = Model(input_img,decoded)\n",
        "autoencoder18.compile(optimizer='adam', loss='mse')\n",
        "autoencoder18.summary()"
      ],
      "metadata": {
        "colab": {
          "base_uri": "https://localhost:8080/"
        },
        "id": "MwPPbGEJ8ly0",
        "outputId": "c7ad59f8-258b-4970-d3d5-8bc0ea700034"
      },
      "execution_count": 17,
      "outputs": [
        {
          "output_type": "stream",
          "name": "stdout",
          "text": [
            "Model: \"model_2\"\n",
            "__________________________________________________________________________________________________\n",
            " Layer (type)                Output Shape                 Param #   Connected to                  \n",
            "==================================================================================================\n",
            " input_3 (InputLayer)        [(None, 256, 256, 3)]        0         []                            \n",
            "                                                                                                  \n",
            " conv2d_25 (Conv2D)          (None, 256, 256, 32)         896       ['input_3[0][0]']             \n",
            "                                                                                                  \n",
            " conv2d_26 (Conv2D)          (None, 256, 256, 32)         9248      ['conv2d_25[0][0]']           \n",
            "                                                                                                  \n",
            " max_pooling2d_7 (MaxPoolin  (None, 128, 128, 32)         0         ['conv2d_26[0][0]']           \n",
            " g2D)                                                                                             \n",
            "                                                                                                  \n",
            " conv2d_27 (Conv2D)          (None, 128, 128, 64)         18496     ['max_pooling2d_7[0][0]']     \n",
            "                                                                                                  \n",
            " conv2d_28 (Conv2D)          (None, 128, 128, 64)         36928     ['conv2d_27[0][0]']           \n",
            "                                                                                                  \n",
            " max_pooling2d_8 (MaxPoolin  (None, 64, 64, 64)           0         ['conv2d_28[0][0]']           \n",
            " g2D)                                                                                             \n",
            "                                                                                                  \n",
            " conv2d_29 (Conv2D)          (None, 64, 64, 128)          73856     ['max_pooling2d_8[0][0]']     \n",
            "                                                                                                  \n",
            " conv2d_30 (Conv2D)          (None, 64, 64, 128)          147584    ['conv2d_29[0][0]']           \n",
            "                                                                                                  \n",
            " max_pooling2d_9 (MaxPoolin  (None, 32, 32, 128)          0         ['conv2d_30[0][0]']           \n",
            " g2D)                                                                                             \n",
            "                                                                                                  \n",
            " conv2d_31 (Conv2D)          (None, 32, 32, 128)          147584    ['max_pooling2d_9[0][0]']     \n",
            "                                                                                                  \n",
            " conv2d_32 (Conv2D)          (None, 32, 32, 128)          147584    ['conv2d_31[0][0]']           \n",
            "                                                                                                  \n",
            " max_pooling2d_10 (MaxPooli  (None, 16, 16, 128)          0         ['conv2d_32[0][0]']           \n",
            " ng2D)                                                                                            \n",
            "                                                                                                  \n",
            " conv2d_33 (Conv2D)          (None, 16, 16, 128)          147584    ['max_pooling2d_10[0][0]']    \n",
            "                                                                                                  \n",
            " conv2d_34 (Conv2D)          (None, 16, 16, 8)            9224      ['conv2d_33[0][0]']           \n",
            "                                                                                                  \n",
            " max_pooling2d_11 (MaxPooli  (None, 8, 8, 8)              0         ['conv2d_34[0][0]']           \n",
            " ng2D)                                                                                            \n",
            "                                                                                                  \n",
            " conv2d_35 (Conv2D)          (None, 8, 8, 1)              9         ['max_pooling2d_11[0][0]']    \n",
            "                                                                                                  \n",
            " conv2d_36 (Conv2D)          (None, 8, 8, 8)              80        ['conv2d_35[0][0]']           \n",
            "                                                                                                  \n",
            " up_sampling2d_7 (UpSamplin  (None, 16, 16, 8)            0         ['conv2d_36[0][0]']           \n",
            " g2D)                                                                                             \n",
            "                                                                                                  \n",
            " concatenate_7 (Concatenate  (None, 16, 16, 16)           0         ['up_sampling2d_7[0][0]',     \n",
            " )                                                                   'conv2d_34[0][0]']           \n",
            "                                                                                                  \n",
            " conv2d_37 (Conv2D)          (None, 16, 16, 128)          18560     ['concatenate_7[0][0]']       \n",
            "                                                                                                  \n",
            " up_sampling2d_8 (UpSamplin  (None, 32, 32, 128)          0         ['conv2d_37[0][0]']           \n",
            " g2D)                                                                                             \n",
            "                                                                                                  \n",
            " concatenate_8 (Concatenate  (None, 32, 32, 256)          0         ['up_sampling2d_8[0][0]',     \n",
            " )                                                                   'conv2d_32[0][0]']           \n",
            "                                                                                                  \n",
            " conv2d_38 (Conv2D)          (None, 32, 32, 128)          295040    ['concatenate_8[0][0]']       \n",
            "                                                                                                  \n",
            " up_sampling2d_9 (UpSamplin  (None, 64, 64, 128)          0         ['conv2d_38[0][0]']           \n",
            " g2D)                                                                                             \n",
            "                                                                                                  \n",
            " concatenate_9 (Concatenate  (None, 64, 64, 256)          0         ['up_sampling2d_9[0][0]',     \n",
            " )                                                                   'conv2d_30[0][0]']           \n",
            "                                                                                                  \n",
            " conv2d_39 (Conv2D)          (None, 64, 64, 64)           147520    ['concatenate_9[0][0]']       \n",
            "                                                                                                  \n",
            " up_sampling2d_10 (UpSampli  (None, 128, 128, 64)         0         ['conv2d_39[0][0]']           \n",
            " ng2D)                                                                                            \n",
            "                                                                                                  \n",
            " concatenate_10 (Concatenat  (None, 128, 128, 128)        0         ['up_sampling2d_10[0][0]',    \n",
            " e)                                                                  'conv2d_28[0][0]']           \n",
            "                                                                                                  \n",
            " conv2d_40 (Conv2D)          (None, 128, 128, 32)         36896     ['concatenate_10[0][0]']      \n",
            "                                                                                                  \n",
            " up_sampling2d_11 (UpSampli  (None, 256, 256, 32)         0         ['conv2d_40[0][0]']           \n",
            " ng2D)                                                                                            \n",
            "                                                                                                  \n",
            " concatenate_11 (Concatenat  (None, 256, 256, 64)         0         ['up_sampling2d_11[0][0]',    \n",
            " e)                                                                  'conv2d_26[0][0]']           \n",
            "                                                                                                  \n",
            " conv2d_41 (Conv2D)          (None, 256, 256, 3)          1731      ['concatenate_11[0][0]']      \n",
            "                                                                                                  \n",
            "==================================================================================================\n",
            "Total params: 1238820 (4.73 MB)\n",
            "Trainable params: 1238820 (4.73 MB)\n",
            "Non-trainable params: 0 (0.00 Byte)\n",
            "__________________________________________________________________________________________________\n"
          ]
        }
      ]
    },
    {
      "cell_type": "code",
      "source": [
        "history= autoencoder18.fit(train, train, epochs=10, batch_size=12, validation_data=(val, val))"
      ],
      "metadata": {
        "colab": {
          "base_uri": "https://localhost:8080/"
        },
        "id": "lWjv3ftP85tY",
        "outputId": "2205e9ca-97ce-47fd-df44-2fda8fe55b72"
      },
      "execution_count": null,
      "outputs": [
        {
          "output_type": "stream",
          "name": "stdout",
          "text": [
            "Epoch 1/10\n",
            "13/13 [==============================] - 242s 17s/step - loss: 0.0508 - val_loss: 0.0347\n",
            "Epoch 2/10\n",
            "13/13 [==============================] - 151s 12s/step - loss: 0.0309 - val_loss: 0.0200\n",
            "Epoch 3/10\n",
            "13/13 [==============================] - 166s 13s/step - loss: 0.0161 - val_loss: 0.0132\n",
            "Epoch 4/10\n",
            "13/13 [==============================] - 163s 13s/step - loss: 0.0106 - val_loss: 0.0092\n",
            "Epoch 5/10\n",
            "13/13 [==============================] - 154s 12s/step - loss: 0.0080 - val_loss: 0.0073\n",
            "Epoch 6/10\n",
            "13/13 [==============================] - 153s 12s/step - loss: 0.0070 - val_loss: 0.0065\n",
            "Epoch 7/10\n",
            "13/13 [==============================] - 151s 12s/step - loss: 0.0055 - val_loss: 0.0049\n",
            "Epoch 8/10\n",
            "13/13 [==============================] - 154s 12s/step - loss: 0.0044 - val_loss: 0.0041\n",
            "Epoch 9/10\n",
            "13/13 [==============================] - 161s 12s/step - loss: 0.0037 - val_loss: 0.0033\n",
            "Epoch 10/10\n",
            "13/13 [==============================] - 164s 13s/step - loss: 0.0035 - val_loss: 0.0028\n"
          ]
        }
      ]
    },
    {
      "cell_type": "code",
      "source": [
        "# Plot training and validation loss\n",
        "plt.plot(history.history['loss'])\n",
        "plt.plot(history.history['val_loss'])\n",
        "plt.title('Model loss')\n",
        "plt.ylabel('Loss')\n",
        "plt.xlabel('Epoch')\n",
        "plt.legend(['Train', 'Validation'], loc='upper right')\n",
        "plt.show()"
      ],
      "metadata": {
        "colab": {
          "base_uri": "https://localhost:8080/",
          "height": 472
        },
        "id": "AM8Ugmdl85qg",
        "outputId": "1212d73a-329f-40b3-b8de-c10cab70c72a"
      },
      "execution_count": null,
      "outputs": [
        {
          "output_type": "display_data",
          "data": {
            "text/plain": [
              "<Figure size 640x480 with 1 Axes>"
            ],
            "image/png": "[encoded data removed]"
          },
          "metadata": {}
        }
      ]
    },
    {
      "cell_type": "code",
      "source": [
        "test_pred= autoencoder18.predict(test)\n",
        "psnr_test=[]\n",
        "for i in range(0,100):\n",
        "  x= psnr(test[i],test_pred[i])\n",
        "  psnr_test.append(x)"
      ],
      "metadata": {
        "colab": {
          "base_uri": "https://localhost:8080/"
        },
        "id": "Qqej_1ZQ85m1",
        "outputId": "8c9535de-0ad9-4055-dad0-8c4caf05b604"
      },
      "execution_count": 21,
      "outputs": [
        {
          "output_type": "stream",
          "name": "stdout",
          "text": [
            "4/4 [==============================] - 27s 6s/step\n"
          ]
        }
      ]
    },
    {
      "cell_type": "code",
      "source": [
        "import statistics\n",
        "\n",
        "# Mean_test\n",
        "mean_value = statistics.mean(psnr_test)\n",
        "print(f\"MeanPSNR of test data: {mean_value}\")\n",
        "# Median_test\n",
        "median_value = statistics.median(psnr_test)\n",
        "print(f\"MedianPSNR of test data: {median_value}\")\n",
        "# Standard Deviation_test\n",
        "std_deviation = np.std(psnr_test)\n",
        "print(f\"Standard-DeviationPSNR of test data: {std_deviation}\")"
      ],
      "metadata": {
        "colab": {
          "base_uri": "https://localhost:8080/"
        },
        "id": "bpb0pgnYqxzL",
        "outputId": "7ea02f6f-d6e9-4976-d8e8-237fc38ffa1a"
      },
      "execution_count": 22,
      "outputs": [
        {
          "output_type": "stream",
          "name": "stdout",
          "text": [
            "MeanPSNR of test data: 26.173653158796945\n",
            "MedianPSNR of test data: 25.962856910314045\n",
            "Standard-DeviationPSNR of test data: 2.2769042515911977\n"
          ]
        }
      ]
    },
    {
      "cell_type": "code",
      "source": [
        "autoencoder18.load_weights('/content/drive/MyDrive/Colab Notebooks/TryingDiffArch2/arch18.h5')           # repo contains the weights of the model"
      ],
      "metadata": {
        "id": "nwHsndRWqxwn"
      },
      "execution_count": 20,
      "outputs": []
    },
    {
      "cell_type": "markdown",
      "source": [
        "## 8x8x128: with Conv 1x1\n",
        "(8x8x1 : 64 in bottleneck)"
      ],
      "metadata": {
        "id": "wzl5QGH7g_Fg"
      }
    },
    {
      "cell_type": "code",
      "source": [
        "# Input layer for 256x256x3 images\n",
        "input_img = Input(shape=(256, 256, 3))\n",
        "\n",
        "# Encoder\n",
        "x1 = Conv2D(32, (3, 3), activation='relu', padding='same')(input_img)\n",
        "x1 = Conv2D(32, (3, 3), activation='relu', padding='same')(x1)\n",
        "p1 = MaxPooling2D((2, 2), padding='same')(x1)\n",
        "\n",
        "\n",
        "x2 = Conv2D(64, (3, 3), activation='relu', padding='same')(p1)\n",
        "x2 = Conv2D(64, (3, 3), activation='relu', padding='same')(x2)\n",
        "p2 = MaxPooling2D((2, 2), padding='same')(x2)\n",
        "\n",
        "\n",
        "x3 = Conv2D(128, (3, 3), activation='relu', padding='same')(p2)\n",
        "x3 = Conv2D(128, (3, 3), activation='relu', padding='same')(x3)\n",
        "p3 = MaxPooling2D((2, 2), padding='same')(x3)\n",
        "\n",
        "x4 = Conv2D(128, (3, 3), activation='relu', padding='same')(p3)\n",
        "x4 = Conv2D(128, (3, 3), activation='relu', padding='same')(x4)\n",
        "p4 = MaxPooling2D((2, 2), padding='same')(x4)\n",
        "\n",
        "x5 = Conv2D(128, (3, 3), activation='relu', padding='same')(p4)\n",
        "x5 = Conv2D(128, (3, 3), activation='relu', padding='same')(x5)\n",
        "\n",
        "#bottleneck\n",
        "encoded = MaxPooling2D((2, 2), padding='same')(x5)\n",
        "\n",
        "# 1x1 Conv\n",
        "x1x1= Conv2D(1, (1,1), activation='relu', padding='same')(encoded)\n",
        "\n",
        "# Decoder\n",
        "x = Conv2D(128, (3, 3), activation='relu', padding='same')(x1x1)\n",
        "x = UpSampling2D((2, 2))(x)\n",
        "x = concatenate([x, x5], axis=-1)  # Adding skip connection\n",
        "x = Conv2D(128, (3, 3), activation='relu', padding='same')(x)\n",
        "x = UpSampling2D((2, 2))(x)\n",
        "x = concatenate([x, x4], axis=-1)  # Adding skip connection\n",
        "x = Conv2D(128, (3, 3), activation='relu', padding='same')(x)\n",
        "x = UpSampling2D((2, 2))(x)\n",
        "x = concatenate([x, x3], axis=-1)  # Adding skip connection\n",
        "x = Conv2D(64, (3, 3), activation='relu', padding='same')(x)\n",
        "x = UpSampling2D((2, 2))(x)\n",
        "x = concatenate([x, x2], axis=-1)  # Adding skip connection\n",
        "x = Conv2D(32, (3, 3), activation='relu', padding='same')(x)\n",
        "x = UpSampling2D((2, 2))(x)\n",
        "x = concatenate([x, x1], axis=-1)  # Adding skip connection\n",
        "decoded = Conv2D(3, (3, 3), activation='sigmoid', padding='same')(x)\n",
        "\n",
        "autoencoder19 = Model(input_img,decoded)\n",
        "autoencoder19.compile(optimizer='adam', loss='mse')\n",
        "autoencoder19.summary()"
      ],
      "metadata": {
        "colab": {
          "base_uri": "https://localhost:8080/"
        },
        "id": "zNuO6jDBrM8p",
        "outputId": "b077a87e-1f9e-43a7-ef79-f18c73f27a61"
      },
      "execution_count": 23,
      "outputs": [
        {
          "output_type": "stream",
          "name": "stdout",
          "text": [
            "Model: \"model_3\"\n",
            "__________________________________________________________________________________________________\n",
            " Layer (type)                Output Shape                 Param #   Connected to                  \n",
            "==================================================================================================\n",
            " input_4 (InputLayer)        [(None, 256, 256, 3)]        0         []                            \n",
            "                                                                                                  \n",
            " conv2d_42 (Conv2D)          (None, 256, 256, 32)         896       ['input_4[0][0]']             \n",
            "                                                                                                  \n",
            " conv2d_43 (Conv2D)          (None, 256, 256, 32)         9248      ['conv2d_42[0][0]']           \n",
            "                                                                                                  \n",
            " max_pooling2d_12 (MaxPooli  (None, 128, 128, 32)         0         ['conv2d_43[0][0]']           \n",
            " ng2D)                                                                                            \n",
            "                                                                                                  \n",
            " conv2d_44 (Conv2D)          (None, 128, 128, 64)         18496     ['max_pooling2d_12[0][0]']    \n",
            "                                                                                                  \n",
            " conv2d_45 (Conv2D)          (None, 128, 128, 64)         36928     ['conv2d_44[0][0]']           \n",
            "                                                                                                  \n",
            " max_pooling2d_13 (MaxPooli  (None, 64, 64, 64)           0         ['conv2d_45[0][0]']           \n",
            " ng2D)                                                                                            \n",
            "                                                                                                  \n",
            " conv2d_46 (Conv2D)          (None, 64, 64, 128)          73856     ['max_pooling2d_13[0][0]']    \n",
            "                                                                                                  \n",
            " conv2d_47 (Conv2D)          (None, 64, 64, 128)          147584    ['conv2d_46[0][0]']           \n",
            "                                                                                                  \n",
            " max_pooling2d_14 (MaxPooli  (None, 32, 32, 128)          0         ['conv2d_47[0][0]']           \n",
            " ng2D)                                                                                            \n",
            "                                                                                                  \n",
            " conv2d_48 (Conv2D)          (None, 32, 32, 128)          147584    ['max_pooling2d_14[0][0]']    \n",
            "                                                                                                  \n",
            " conv2d_49 (Conv2D)          (None, 32, 32, 128)          147584    ['conv2d_48[0][0]']           \n",
            "                                                                                                  \n",
            " max_pooling2d_15 (MaxPooli  (None, 16, 16, 128)          0         ['conv2d_49[0][0]']           \n",
            " ng2D)                                                                                            \n",
            "                                                                                                  \n",
            " conv2d_50 (Conv2D)          (None, 16, 16, 128)          147584    ['max_pooling2d_15[0][0]']    \n",
            "                                                                                                  \n",
            " conv2d_51 (Conv2D)          (None, 16, 16, 128)          147584    ['conv2d_50[0][0]']           \n",
            "                                                                                                  \n",
            " max_pooling2d_16 (MaxPooli  (None, 8, 8, 128)            0         ['conv2d_51[0][0]']           \n",
            " ng2D)                                                                                            \n",
            "                                                                                                  \n",
            " conv2d_52 (Conv2D)          (None, 8, 8, 1)              129       ['max_pooling2d_16[0][0]']    \n",
            "                                                                                                  \n",
            " conv2d_53 (Conv2D)          (None, 8, 8, 128)            1280      ['conv2d_52[0][0]']           \n",
            "                                                                                                  \n",
            " up_sampling2d_12 (UpSampli  (None, 16, 16, 128)          0         ['conv2d_53[0][0]']           \n",
            " ng2D)                                                                                            \n",
            "                                                                                                  \n",
            " concatenate_12 (Concatenat  (None, 16, 16, 256)          0         ['up_sampling2d_12[0][0]',    \n",
            " e)                                                                  'conv2d_51[0][0]']           \n",
            "                                                                                                  \n",
            " conv2d_54 (Conv2D)          (None, 16, 16, 128)          295040    ['concatenate_12[0][0]']      \n",
            "                                                                                                  \n",
            " up_sampling2d_13 (UpSampli  (None, 32, 32, 128)          0         ['conv2d_54[0][0]']           \n",
            " ng2D)                                                                                            \n",
            "                                                                                                  \n",
            " concatenate_13 (Concatenat  (None, 32, 32, 256)          0         ['up_sampling2d_13[0][0]',    \n",
            " e)                                                                  'conv2d_49[0][0]']           \n",
            "                                                                                                  \n",
            " conv2d_55 (Conv2D)          (None, 32, 32, 128)          295040    ['concatenate_13[0][0]']      \n",
            "                                                                                                  \n",
            " up_sampling2d_14 (UpSampli  (None, 64, 64, 128)          0         ['conv2d_55[0][0]']           \n",
            " ng2D)                                                                                            \n",
            "                                                                                                  \n",
            " concatenate_14 (Concatenat  (None, 64, 64, 256)          0         ['up_sampling2d_14[0][0]',    \n",
            " e)                                                                  'conv2d_47[0][0]']           \n",
            "                                                                                                  \n",
            " conv2d_56 (Conv2D)          (None, 64, 64, 64)           147520    ['concatenate_14[0][0]']      \n",
            "                                                                                                  \n",
            " up_sampling2d_15 (UpSampli  (None, 128, 128, 64)         0         ['conv2d_56[0][0]']           \n",
            " ng2D)                                                                                            \n",
            "                                                                                                  \n",
            " concatenate_15 (Concatenat  (None, 128, 128, 128)        0         ['up_sampling2d_15[0][0]',    \n",
            " e)                                                                  'conv2d_45[0][0]']           \n",
            "                                                                                                  \n",
            " conv2d_57 (Conv2D)          (None, 128, 128, 32)         36896     ['concatenate_15[0][0]']      \n",
            "                                                                                                  \n",
            " up_sampling2d_16 (UpSampli  (None, 256, 256, 32)         0         ['conv2d_57[0][0]']           \n",
            " ng2D)                                                                                            \n",
            "                                                                                                  \n",
            " concatenate_16 (Concatenat  (None, 256, 256, 64)         0         ['up_sampling2d_16[0][0]',    \n",
            " e)                                                                  'conv2d_43[0][0]']           \n",
            "                                                                                                  \n",
            " conv2d_58 (Conv2D)          (None, 256, 256, 3)          1731      ['concatenate_16[0][0]']      \n",
            "                                                                                                  \n",
            "==================================================================================================\n",
            "Total params: 1654980 (6.31 MB)\n",
            "Trainable params: 1654980 (6.31 MB)\n",
            "Non-trainable params: 0 (0.00 Byte)\n",
            "__________________________________________________________________________________________________\n"
          ]
        }
      ]
    },
    {
      "cell_type": "code",
      "source": [
        "history= autoencoder19.fit(train, train, epochs=10, batch_size=12, validation_data=(val, val))"
      ],
      "metadata": {
        "colab": {
          "base_uri": "https://localhost:8080/"
        },
        "id": "jmfac7Vnhmy1",
        "outputId": "5394580e-89a5-46f4-8b70-a9c5fab61ed2"
      },
      "execution_count": 24,
      "outputs": [
        {
          "output_type": "stream",
          "name": "stdout",
          "text": [
            "Epoch 1/10\n",
            "13/13 [==============================] - 180s 13s/step - loss: 0.0628 - val_loss: 0.0498\n",
            "Epoch 2/10\n",
            "13/13 [==============================] - 168s 13s/step - loss: 0.0331 - val_loss: 0.0202\n",
            "Epoch 3/10\n",
            "13/13 [==============================] - 173s 13s/step - loss: 0.0169 - val_loss: 0.0140\n",
            "Epoch 4/10\n",
            "13/13 [==============================] - 167s 13s/step - loss: 0.0110 - val_loss: 0.0089\n",
            "Epoch 5/10\n",
            "13/13 [==============================] - 168s 13s/step - loss: 0.0075 - val_loss: 0.0066\n",
            "Epoch 6/10\n",
            "13/13 [==============================] - 171s 13s/step - loss: 0.0062 - val_loss: 0.0056\n",
            "Epoch 7/10\n",
            "13/13 [==============================] - 171s 13s/step - loss: 0.0052 - val_loss: 0.0051\n",
            "Epoch 8/10\n",
            "13/13 [==============================] - 169s 13s/step - loss: 0.0049 - val_loss: 0.0044\n",
            "Epoch 9/10\n",
            "13/13 [==============================] - 167s 13s/step - loss: 0.0040 - val_loss: 0.0039\n",
            "Epoch 10/10\n",
            "13/13 [==============================] - 168s 13s/step - loss: 0.0035 - val_loss: 0.0032\n"
          ]
        }
      ]
    },
    {
      "cell_type": "code",
      "source": [
        "# Plot training and validation loss\n",
        "plt.plot(history.history['loss'])\n",
        "plt.plot(history.history['val_loss'])\n",
        "plt.title('Model loss')\n",
        "plt.ylabel('Loss')\n",
        "plt.xlabel('Epoch')\n",
        "plt.legend(['Train', 'Validation'], loc='upper right')\n",
        "plt.show()"
      ],
      "metadata": {
        "colab": {
          "base_uri": "https://localhost:8080/",
          "height": 472
        },
        "id": "kFkdencphsXT",
        "outputId": "6f03d342-66c7-4b22-931d-9aad3a05cdcb"
      },
      "execution_count": 25,
      "outputs": [
        {
          "output_type": "display_data",
          "data": {
            "text/plain": [
              "<Figure size 640x480 with 1 Axes>"
            ],
            "image/png": "[encoded data removed]"
          },
          "metadata": {}
        }
      ]
    },
    {
      "cell_type": "code",
      "source": [
        "test_pred= autoencoder19.predict(test)\n",
        "psnr_test=[]\n",
        "for i in range(0,100):\n",
        "  x= psnr(test[i],test_pred[i])\n",
        "  psnr_test.append(x)"
      ],
      "metadata": {
        "colab": {
          "base_uri": "https://localhost:8080/"
        },
        "id": "Dhc71--yrSwf",
        "outputId": "91403bfb-8cc9-4e7d-faf1-fbc8df2c02c6"
      },
      "execution_count": 26,
      "outputs": [
        {
          "output_type": "stream",
          "name": "stdout",
          "text": [
            "4/4 [==============================] - 26s 6s/step\n"
          ]
        }
      ]
    },
    {
      "cell_type": "code",
      "source": [
        "import statistics\n",
        "\n",
        "# Mean_test\n",
        "mean_value = statistics.mean(psnr_test)\n",
        "print(f\"MeanPSNR of test data: {mean_value}\")\n",
        "# Median_test\n",
        "median_value = statistics.median(psnr_test)\n",
        "print(f\"MedianPSNR of test data: {median_value}\")\n",
        "# Standard Deviation_test\n",
        "std_deviation = np.std(psnr_test)\n",
        "print(f\"Standard-DeviationPSNR of test data: {std_deviation}\")"
      ],
      "metadata": {
        "colab": {
          "base_uri": "https://localhost:8080/"
        },
        "id": "iF17dNkNrStp",
        "outputId": "4dedf69a-14e5-4b3f-8a2d-be167f7d5bc9"
      },
      "execution_count": 27,
      "outputs": [
        {
          "output_type": "stream",
          "name": "stdout",
          "text": [
            "MeanPSNR of test data: 25.664697481004126\n",
            "MedianPSNR of test data: 25.38070370833597\n",
            "Standard-DeviationPSNR of test data: 2.363368286372469\n"
          ]
        }
      ]
    },
    {
      "cell_type": "code",
      "source": [
        "autoencoder19.save_weights('/content/drive/MyDrive/Colab Notebooks/TryingDiffArch2/arch19.h5')      # repo contains the weights of the model"
      ],
      "metadata": {
        "id": "64cNHvKKSWUv"
      },
      "execution_count": 28,
      "outputs": []
    },
    {
      "cell_type": "markdown",
      "source": [
        "## 8x8x64: with Conv 1x1\n",
        "(8x8x1 : 64 in bottleneck)"
      ],
      "metadata": {
        "id": "dDgchrbOvJ5n"
      }
    },
    {
      "cell_type": "code",
      "source": [
        "# Input layer for 256x256x3 images\n",
        "input_img = Input(shape=(256, 256, 3))\n",
        "\n",
        "# Encoder\n",
        "x1 = Conv2D(32, (3, 3), activation='relu', padding='same')(input_img)\n",
        "x1 = Conv2D(32, (3, 3), activation='relu', padding='same')(x1)\n",
        "p1 = MaxPooling2D((2, 2), padding='same')(x1)\n",
        "\n",
        "\n",
        "x2 = Conv2D(64, (3, 3), activation='relu', padding='same')(p1)\n",
        "x2 = Conv2D(64, (3, 3), activation='relu', padding='same')(x2)\n",
        "p2 = MaxPooling2D((2, 2), padding='same')(x2)\n",
        "\n",
        "\n",
        "x3 = Conv2D(128, (3, 3), activation='relu', padding='same')(p2)\n",
        "x3 = Conv2D(128, (3, 3), activation='relu', padding='same')(x3)\n",
        "p3 = MaxPooling2D((2, 2), padding='same')(x3)\n",
        "\n",
        "x4 = Conv2D(128, (3, 3), activation='relu', padding='same')(p3)\n",
        "x4 = Conv2D(128, (3, 3), activation='relu', padding='same')(x4)\n",
        "p4 = MaxPooling2D((2, 2), padding='same')(x4)\n",
        "\n",
        "x5 = Conv2D(128, (3, 3), activation='relu', padding='same')(p4)\n",
        "x5 = Conv2D(64, (3, 3), activation='relu', padding='same')(x5)\n",
        "\n",
        "#bottleneck\n",
        "encoded = MaxPooling2D((2, 2), padding='same')(x5)\n",
        "\n",
        "# 1x1 Conv\n",
        "x1x1= Conv2D(1, (1,1), activation='relu', padding='same')(encoded)\n",
        "\n",
        "# Decoder\n",
        "x = Conv2D(64, (3, 3), activation='relu', padding='same')(x1x1)\n",
        "x = UpSampling2D((2, 2))(x)\n",
        "x = concatenate([x, x5], axis=-1)  # Adding skip connection\n",
        "x = Conv2D(128, (3, 3), activation='relu', padding='same')(x)\n",
        "x = UpSampling2D((2, 2))(x)\n",
        "x = concatenate([x, x4], axis=-1)  # Adding skip connection\n",
        "x = Conv2D(128, (3, 3), activation='relu', padding='same')(x)\n",
        "x = UpSampling2D((2, 2))(x)\n",
        "x = concatenate([x, x3], axis=-1)  # Adding skip connection\n",
        "x = Conv2D(64, (3, 3), activation='relu', padding='same')(x)\n",
        "x = UpSampling2D((2, 2))(x)\n",
        "x = concatenate([x, x2], axis=-1)  # Adding skip connection\n",
        "x = Conv2D(32, (3, 3), activation='relu', padding='same')(x)\n",
        "x = UpSampling2D((2, 2))(x)\n",
        "x = concatenate([x, x1], axis=-1)  # Adding skip connection\n",
        "decoded = Conv2D(3, (3, 3), activation='sigmoid', padding='same')(x)\n",
        "\n",
        "autoencoder20 = Model(input_img,decoded)\n",
        "autoencoder20.compile(optimizer='adam', loss='mse')\n",
        "autoencoder20.summary()"
      ],
      "metadata": {
        "colab": {
          "base_uri": "https://localhost:8080/"
        },
        "id": "D01COKLNPMOk",
        "outputId": "d94667b0-45ba-46e4-818e-600317db0005"
      },
      "execution_count": 29,
      "outputs": [
        {
          "output_type": "stream",
          "name": "stdout",
          "text": [
            "Model: \"model_4\"\n",
            "__________________________________________________________________________________________________\n",
            " Layer (type)                Output Shape                 Param #   Connected to                  \n",
            "==================================================================================================\n",
            " input_5 (InputLayer)        [(None, 256, 256, 3)]        0         []                            \n",
            "                                                                                                  \n",
            " conv2d_59 (Conv2D)          (None, 256, 256, 32)         896       ['input_5[0][0]']             \n",
            "                                                                                                  \n",
            " conv2d_60 (Conv2D)          (None, 256, 256, 32)         9248      ['conv2d_59[0][0]']           \n",
            "                                                                                                  \n",
            " max_pooling2d_17 (MaxPooli  (None, 128, 128, 32)         0         ['conv2d_60[0][0]']           \n",
            " ng2D)                                                                                            \n",
            "                                                                                                  \n",
            " conv2d_61 (Conv2D)          (None, 128, 128, 64)         18496     ['max_pooling2d_17[0][0]']    \n",
            "                                                                                                  \n",
            " conv2d_62 (Conv2D)          (None, 128, 128, 64)         36928     ['conv2d_61[0][0]']           \n",
            "                                                                                                  \n",
            " max_pooling2d_18 (MaxPooli  (None, 64, 64, 64)           0         ['conv2d_62[0][0]']           \n",
            " ng2D)                                                                                            \n",
            "                                                                                                  \n",
            " conv2d_63 (Conv2D)          (None, 64, 64, 128)          73856     ['max_pooling2d_18[0][0]']    \n",
            "                                                                                                  \n",
            " conv2d_64 (Conv2D)          (None, 64, 64, 128)          147584    ['conv2d_63[0][0]']           \n",
            "                                                                                                  \n",
            " max_pooling2d_19 (MaxPooli  (None, 32, 32, 128)          0         ['conv2d_64[0][0]']           \n",
            " ng2D)                                                                                            \n",
            "                                                                                                  \n",
            " conv2d_65 (Conv2D)          (None, 32, 32, 128)          147584    ['max_pooling2d_19[0][0]']    \n",
            "                                                                                                  \n",
            " conv2d_66 (Conv2D)          (None, 32, 32, 128)          147584    ['conv2d_65[0][0]']           \n",
            "                                                                                                  \n",
            " max_pooling2d_20 (MaxPooli  (None, 16, 16, 128)          0         ['conv2d_66[0][0]']           \n",
            " ng2D)                                                                                            \n",
            "                                                                                                  \n",
            " conv2d_67 (Conv2D)          (None, 16, 16, 128)          147584    ['max_pooling2d_20[0][0]']    \n",
            "                                                                                                  \n",
            " conv2d_68 (Conv2D)          (None, 16, 16, 64)           73792     ['conv2d_67[0][0]']           \n",
            "                                                                                                  \n",
            " max_pooling2d_21 (MaxPooli  (None, 8, 8, 64)             0         ['conv2d_68[0][0]']           \n",
            " ng2D)                                                                                            \n",
            "                                                                                                  \n",
            " conv2d_69 (Conv2D)          (None, 8, 8, 1)              65        ['max_pooling2d_21[0][0]']    \n",
            "                                                                                                  \n",
            " conv2d_70 (Conv2D)          (None, 8, 8, 64)             640       ['conv2d_69[0][0]']           \n",
            "                                                                                                  \n",
            " up_sampling2d_17 (UpSampli  (None, 16, 16, 64)           0         ['conv2d_70[0][0]']           \n",
            " ng2D)                                                                                            \n",
            "                                                                                                  \n",
            " concatenate_17 (Concatenat  (None, 16, 16, 128)          0         ['up_sampling2d_17[0][0]',    \n",
            " e)                                                                  'conv2d_68[0][0]']           \n",
            "                                                                                                  \n",
            " conv2d_71 (Conv2D)          (None, 16, 16, 128)          147584    ['concatenate_17[0][0]']      \n",
            "                                                                                                  \n",
            " up_sampling2d_18 (UpSampli  (None, 32, 32, 128)          0         ['conv2d_71[0][0]']           \n",
            " ng2D)                                                                                            \n",
            "                                                                                                  \n",
            " concatenate_18 (Concatenat  (None, 32, 32, 256)          0         ['up_sampling2d_18[0][0]',    \n",
            " e)                                                                  'conv2d_66[0][0]']           \n",
            "                                                                                                  \n",
            " conv2d_72 (Conv2D)          (None, 32, 32, 128)          295040    ['concatenate_18[0][0]']      \n",
            "                                                                                                  \n",
            " up_sampling2d_19 (UpSampli  (None, 64, 64, 128)          0         ['conv2d_72[0][0]']           \n",
            " ng2D)                                                                                            \n",
            "                                                                                                  \n",
            " concatenate_19 (Concatenat  (None, 64, 64, 256)          0         ['up_sampling2d_19[0][0]',    \n",
            " e)                                                                  'conv2d_64[0][0]']           \n",
            "                                                                                                  \n",
            " conv2d_73 (Conv2D)          (None, 64, 64, 64)           147520    ['concatenate_19[0][0]']      \n",
            "                                                                                                  \n",
            " up_sampling2d_20 (UpSampli  (None, 128, 128, 64)         0         ['conv2d_73[0][0]']           \n",
            " ng2D)                                                                                            \n",
            "                                                                                                  \n",
            " concatenate_20 (Concatenat  (None, 128, 128, 128)        0         ['up_sampling2d_20[0][0]',    \n",
            " e)                                                                  'conv2d_62[0][0]']           \n",
            "                                                                                                  \n",
            " conv2d_74 (Conv2D)          (None, 128, 128, 32)         36896     ['concatenate_20[0][0]']      \n",
            "                                                                                                  \n",
            " up_sampling2d_21 (UpSampli  (None, 256, 256, 32)         0         ['conv2d_74[0][0]']           \n",
            " ng2D)                                                                                            \n",
            "                                                                                                  \n",
            " concatenate_21 (Concatenat  (None, 256, 256, 64)         0         ['up_sampling2d_21[0][0]',    \n",
            " e)                                                                  'conv2d_60[0][0]']           \n",
            "                                                                                                  \n",
            " conv2d_75 (Conv2D)          (None, 256, 256, 3)          1731      ['concatenate_21[0][0]']      \n",
            "                                                                                                  \n",
            "==================================================================================================\n",
            "Total params: 1433028 (5.47 MB)\n",
            "Trainable params: 1433028 (5.47 MB)\n",
            "Non-trainable params: 0 (0.00 Byte)\n",
            "__________________________________________________________________________________________________\n"
          ]
        }
      ]
    },
    {
      "cell_type": "code",
      "source": [
        "history= autoencoder20.fit(train, train, epochs=10, batch_size=12, validation_data=(val, val))"
      ],
      "metadata": {
        "colab": {
          "base_uri": "https://localhost:8080/"
        },
        "id": "A0279Og5TW_v",
        "outputId": "886c0a86-5b6b-48ef-fd52-6ac30bb4a669"
      },
      "execution_count": 30,
      "outputs": [
        {
          "output_type": "stream",
          "name": "stdout",
          "text": [
            "Epoch 1/10\n",
            "13/13 [==============================] - 187s 14s/step - loss: 0.0578 - val_loss: 0.0468\n",
            "Epoch 2/10\n",
            "13/13 [==============================] - 167s 13s/step - loss: 0.0325 - val_loss: 0.0190\n",
            "Epoch 3/10\n",
            "13/13 [==============================] - 167s 13s/step - loss: 0.0158 - val_loss: 0.0120\n",
            "Epoch 4/10\n",
            "13/13 [==============================] - 169s 13s/step - loss: 0.0095 - val_loss: 0.0083\n",
            "Epoch 5/10\n",
            "13/13 [==============================] - 165s 13s/step - loss: 0.0075 - val_loss: 0.0070\n",
            "Epoch 6/10\n",
            "13/13 [==============================] - 173s 13s/step - loss: 0.0064 - val_loss: 0.0060\n",
            "Epoch 7/10\n",
            "13/13 [==============================] - 165s 13s/step - loss: 0.0056 - val_loss: 0.0053\n",
            "Epoch 8/10\n",
            "13/13 [==============================] - 168s 13s/step - loss: 0.0049 - val_loss: 0.0048\n",
            "Epoch 9/10\n",
            "13/13 [==============================] - 169s 13s/step - loss: 0.0043 - val_loss: 0.0038\n",
            "Epoch 10/10\n",
            "13/13 [==============================] - 164s 13s/step - loss: 0.0035 - val_loss: 0.0034\n"
          ]
        }
      ]
    },
    {
      "cell_type": "code",
      "source": [
        "# Plot training and validation loss\n",
        "plt.plot(history.history['loss'])\n",
        "plt.plot(history.history['val_loss'])\n",
        "plt.title('Model loss')\n",
        "plt.ylabel('Loss')\n",
        "plt.xlabel('Epoch')\n",
        "plt.legend(['Train', 'Validation'], loc='upper right')\n",
        "plt.show()"
      ],
      "metadata": {
        "colab": {
          "base_uri": "https://localhost:8080/",
          "height": 472
        },
        "id": "XqGbPP4MlGTY",
        "outputId": "8763daf9-589e-4ef9-8df8-0770daa9f21a"
      },
      "execution_count": 31,
      "outputs": [
        {
          "output_type": "display_data",
          "data": {
            "text/plain": [
              "<Figure size 640x480 with 1 Axes>"
            ],
            "image/png": "[encoded data removed]"
          },
          "metadata": {}
        }
      ]
    },
    {
      "cell_type": "code",
      "source": [
        "test_pred= autoencoder20.predict(test)\n",
        "psnr_test=[]\n",
        "for i in range(0,100):\n",
        "  x= psnr(test[i],test_pred[i])\n",
        "  psnr_test.append(x)"
      ],
      "metadata": {
        "colab": {
          "base_uri": "https://localhost:8080/"
        },
        "id": "n34gHds1YZJz",
        "outputId": "6bb306dc-a112-40b0-9431-bf4632c627a0"
      },
      "execution_count": 32,
      "outputs": [
        {
          "output_type": "stream",
          "name": "stdout",
          "text": [
            "4/4 [==============================] - 27s 6s/step\n"
          ]
        }
      ]
    },
    {
      "cell_type": "code",
      "source": [
        "import statistics\n",
        "\n",
        "# Mean_test\n",
        "mean_value = statistics.mean(psnr_test)\n",
        "print(f\"MeanPSNR of test data: {mean_value}\")\n",
        "# Median_test\n",
        "median_value = statistics.median(psnr_test)\n",
        "print(f\"MedianPSNR of test data: {median_value}\")\n",
        "# Standard Deviation_test\n",
        "std_deviation = np.std(psnr_test)\n",
        "print(f\"Standard-DeviationPSNR of test data: {std_deviation}\")"
      ],
      "metadata": {
        "colab": {
          "base_uri": "https://localhost:8080/"
        },
        "id": "XsUcrM1We6eE",
        "outputId": "cc2aac83-2f71-4422-f369-cc1127b3cc0a"
      },
      "execution_count": 33,
      "outputs": [
        {
          "output_type": "stream",
          "name": "stdout",
          "text": [
            "MeanPSNR of test data: 25.353899497794636\n",
            "MedianPSNR of test data: 25.080525581215504\n",
            "Standard-DeviationPSNR of test data: 2.3553789464505983\n"
          ]
        }
      ]
    },
    {
      "cell_type": "code",
      "source": [
        "autoencoder20.save_weights('/content/drive/MyDrive/Colab Notebooks/TryingDiffArch2/arch20.h5')       # repo contains the weights of the model"
      ],
      "metadata": {
        "id": "yWOTTkKmfChs"
      },
      "execution_count": 34,
      "outputs": []
    }
  ]
}