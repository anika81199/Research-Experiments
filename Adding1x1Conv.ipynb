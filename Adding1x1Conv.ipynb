{
  "nbformat": 4,
  "nbformat_minor": 0,
  "metadata": {
    "colab": {
      "provenance": []
    },
    "kernelspec": {
      "name": "python3",
      "display_name": "Python 3"
    },
    "language_info": {
      "name": "python"
    }
  },
  "cells": [
    {
      "cell_type": "markdown",
      "source": [
        "**Implemented by: Anika Shrivastava**"
      ],
      "metadata": {
        "id": "KsY1TJHwpF1f"
      }
    },
    {
      "cell_type": "markdown",
      "source": [
        "## **important imports**\n",
        "\n"
      ],
      "metadata": {
        "id": "A411MJsxe6HW"
      }
    },
    {
      "cell_type": "code",
      "execution_count": null,
      "metadata": {
        "id": "gWNiWidzf-iy"
      },
      "outputs": [],
      "source": [
        "import numpy as np\n",
        "import matplotlib.pyplot as plt\n",
        "import tensorflow as tf\n",
        "from tensorflow.keras.preprocessing import image\n",
        "import os\n",
        "import random\n",
        "import cv2\n",
        "from tensorflow.keras.models import Sequential,Model\n",
        "from tensorflow.keras.layers import Dense,Conv2D,MaxPooling2D,UpSampling2D,Flatten,Input, LeakyReLU, Add, Concatenate, concatenate\n",
        "import tensorflow as tf\n",
        "from tensorflow.keras.layers import Conv2D, Conv2DTranspose\n",
        "from tensorflow.keras.models import load_model\n",
        "import math\n",
        "import pandas as pd\n",
        "#import seaborn as sns\n",
        "from sklearn.metrics import confusion_matrix\n",
        "from sklearn.metrics import ConfusionMatrixDisplay\n",
        "from sklearn.decomposition import PCA\n",
        "import tensorflow as tf\n",
        "from tensorflow import keras\n",
        "from tensorflow.keras.models import Model\n",
        "from tensorflow.keras.layers import Input, Dense, Flatten\n",
        "from tensorflow.keras.optimizers import SGD, Adam\n",
        "from tensorflow.keras.callbacks import EarlyStopping\n",
        "from tensorflow.keras import initializers\n",
        "from sklearn.manifold import TSNE\n",
        "import matplotlib.pyplot as plt\n",
        "from matplotlib.colors import ListedColormap"
      ]
    },
    {
      "cell_type": "markdown",
      "source": [
        "### **drive mounted**"
      ],
      "metadata": {
        "id": "4O1tdefsf1CZ"
      }
    },
    {
      "cell_type": "code",
      "execution_count": null,
      "metadata": {
        "id": "PnmHKuNygJ0k",
        "colab": {
          "base_uri": "https://localhost:8080/"
        },
        "outputId": "4a411b51-d128-4333-91ba-eea99a5a25c3"
      },
      "outputs": [
        {
          "output_type": "stream",
          "name": "stdout",
          "text": [
            "Mounted at /content/drive/\n"
          ]
        }
      ],
      "source": [
        "from google.colab import drive\n",
        "drive.mount('/content/drive/')"
      ]
    },
    {
      "cell_type": "markdown",
      "source": [
        "### **reading the images**"
      ],
      "metadata": {
        "id": "i8MjvTXzh72E"
      }
    },
    {
      "cell_type": "code",
      "execution_count": null,
      "metadata": {
        "id": "C6ywxC-_gRNt"
      },
      "outputs": [],
      "source": [
        "def read(path):\n",
        "    path = path\n",
        "    dataset = []\n",
        "\n",
        "    for filename in os.listdir(path):\n",
        "        if filename.endswith(\".jpg\"):\n",
        "            image_path = os.path.join(path, filename)\n",
        "            img = image.load_img(image_path,target_size=(256,256,3),color_mode= 'rgb')\n",
        "            img=image.img_to_array(img)\n",
        "            img=img/255\n",
        "            dataset.append(img)\n",
        "    dataset= np.array(dataset)\n",
        "    return dataset"
      ]
    },
    {
      "cell_type": "markdown",
      "source": [
        "### **Dataset BSDS300 can be accessed from the link: https://www.kaggle.com/datasets/adheshgarg/bsds300**"
      ],
      "metadata": {
        "id": "ECVZIWtG1N5j"
      }
    },
    {
      "cell_type": "code",
      "execution_count": null,
      "metadata": {
        "id": "9RTN_tOigkCX"
      },
      "outputs": [],
      "source": [
        "path = '/content/drive/MyDrive/Colab Notebooks/BSDS300_all'    # change the path accrodingly\n",
        "dataset = read(path)"
      ]
    },
    {
      "cell_type": "code",
      "execution_count": null,
      "metadata": {
        "colab": {
          "base_uri": "https://localhost:8080/"
        },
        "id": "HPRwvpljgj_B",
        "outputId": "e8d1e8cb-e580-4cf0-ccfd-c6702a312371"
      },
      "outputs": [
        {
          "output_type": "execute_result",
          "data": {
            "text/plain": [
              "(300, 256, 256, 3)"
            ]
          },
          "metadata": {},
          "execution_count": 5
        }
      ],
      "source": [
        "dataset.shape"
      ]
    },
    {
      "cell_type": "code",
      "execution_count": null,
      "metadata": {
        "id": "wYnIHcJriRhS"
      },
      "outputs": [],
      "source": [
        "def show_img(dataset):\n",
        "    fig, ax = plt.subplots(1,4)\n",
        "    fig.set_size_inches(40, 20)\n",
        "    for i in range(4,8):\n",
        "        ax[i-4].imshow(dataset[i].reshape(256,256,3))\n",
        "    plt.show()\n",
        "\n",
        "def psnr(img1, img2):\n",
        "    mse = np.mean((img1 - img2) ** 2)\n",
        "    if mse == 0:\n",
        "        return 100\n",
        "    PIXEL_MAX = 255.0\n",
        "    return 10 * math.log10(PIXEL_MAX / math.sqrt(mse))"
      ]
    },
    {
      "cell_type": "code",
      "execution_count": null,
      "metadata": {
        "id": "6auhBPIriRoC"
      },
      "outputs": [],
      "source": [
        "train=dataset[0:150]\n",
        "val=dataset[150:200]\n",
        "test= dataset[200:300]"
      ]
    },
    {
      "cell_type": "markdown",
      "source": [
        "## **Experiment-7 (Analyzing the impact of adding 1x1 Conv layer in 32x32x8 , 16x16x8, 8x8x8 models)**"
      ],
      "metadata": {
        "id": "9zGIuIFwPg4D"
      }
    },
    {
      "cell_type": "markdown",
      "source": [
        "![image.png](data:image/png;base64,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)"
      ],
      "metadata": {
        "id": "7AH_PQq-blmK"
      }
    },
    {
      "cell_type": "markdown",
      "source": [
        "## 32x32x8 with 1x1 Conv layer\n",
        "(32x32x1 : 1,024 in bottleneck)"
      ],
      "metadata": {
        "id": "hTK7orIWsi3J"
      }
    },
    {
      "cell_type": "code",
      "source": [
        "# Input layer for 256x256x3 images\n",
        "input_img = Input(shape=(256, 256, 3))\n",
        "\n",
        "# Encoder\n",
        "x1 = Conv2D(32, (3, 3), activation='relu', padding='same')(input_img)\n",
        "x1 = Conv2D(32, (3, 3), activation='relu', padding='same')(x1)\n",
        "# p1 = Dropout(0.3)(x1)\n",
        "p1 = MaxPooling2D((2, 2), padding='same')(x1)\n",
        "\n",
        "\n",
        "x2 = Conv2D(64, (3, 3), activation='relu', padding='same')(p1)\n",
        "x2 = Conv2D(64, (3, 3), activation='relu', padding='same')(x2)\n",
        "# p2 = Dropout(0.3)(x2)\n",
        "p2 = MaxPooling2D((2, 2), padding='same')(x2)\n",
        "\n",
        "\n",
        "x3 = Conv2D(128, (3, 3), activation='relu', padding='same')(p2)\n",
        "x3 = Conv2D(8, (3, 3), activation='relu', padding='same')(x3)\n",
        "encoded = MaxPooling2D((2, 2), padding='same')(x3)\n",
        "\n",
        "# 1x1 Conv layer\n",
        "x1x1= Conv2D(1,(1,1),activation='relu',padding='same')(encoded)\n",
        "\n",
        "# Decoder\n",
        "x = Conv2D(8, (3, 3), activation='relu', padding='same')(x1x1)\n",
        "x = UpSampling2D((2, 2))(x)\n",
        "x = concatenate([x, x3], axis=-1)  # Adding skip connection\n",
        "x = Conv2D(64, (3, 3), activation='relu', padding='same')(x)\n",
        "x = UpSampling2D((2, 2))(x)\n",
        "x = concatenate([x, x2], axis=-1)  # Adding skip connection\n",
        "x = Conv2D(32, (3, 3), activation='relu', padding='same')(x)\n",
        "x = UpSampling2D((2, 2))(x)\n",
        "x = concatenate([x, x1], axis=-1)  # Adding skip connection\n",
        "decoded = Conv2D(3, (3, 3), activation='sigmoid', padding='same')(x)\n",
        "\n",
        "# This model maps an input to its reconstruction\n",
        "autoencoder14 = Model(input_img, decoded)\n",
        "autoencoder14.compile(optimizer='adam', loss='mse')\n",
        "autoencoder14.summary()"
      ],
      "metadata": {
        "colab": {
          "base_uri": "https://localhost:8080/"
        },
        "id": "vCl-Sj4ysjTn",
        "outputId": "0d1a9f29-cc54-4315-ab55-4bb3b57962e1"
      },
      "execution_count": null,
      "outputs": [
        {
          "output_type": "stream",
          "name": "stdout",
          "text": [
            "Model: \"model_3\"\n",
            "__________________________________________________________________________________________________\n",
            " Layer (type)                Output Shape                 Param #   Connected to                  \n",
            "==================================================================================================\n",
            " input_4 (InputLayer)        [(None, 256, 256, 3)]        0         []                            \n",
            "                                                                                                  \n",
            " conv2d_36 (Conv2D)          (None, 256, 256, 32)         896       ['input_4[0][0]']             \n",
            "                                                                                                  \n",
            " conv2d_37 (Conv2D)          (None, 256, 256, 32)         9248      ['conv2d_36[0][0]']           \n",
            "                                                                                                  \n",
            " max_pooling2d_11 (MaxPooli  (None, 128, 128, 32)         0         ['conv2d_37[0][0]']           \n",
            " ng2D)                                                                                            \n",
            "                                                                                                  \n",
            " conv2d_38 (Conv2D)          (None, 128, 128, 64)         18496     ['max_pooling2d_11[0][0]']    \n",
            "                                                                                                  \n",
            " conv2d_39 (Conv2D)          (None, 128, 128, 64)         36928     ['conv2d_38[0][0]']           \n",
            "                                                                                                  \n",
            " max_pooling2d_12 (MaxPooli  (None, 64, 64, 64)           0         ['conv2d_39[0][0]']           \n",
            " ng2D)                                                                                            \n",
            "                                                                                                  \n",
            " conv2d_40 (Conv2D)          (None, 64, 64, 128)          73856     ['max_pooling2d_12[0][0]']    \n",
            "                                                                                                  \n",
            " conv2d_41 (Conv2D)          (None, 64, 64, 8)            9224      ['conv2d_40[0][0]']           \n",
            "                                                                                                  \n",
            " max_pooling2d_13 (MaxPooli  (None, 32, 32, 8)            0         ['conv2d_41[0][0]']           \n",
            " ng2D)                                                                                            \n",
            "                                                                                                  \n",
            " conv2d_42 (Conv2D)          (None, 32, 32, 1)            9         ['max_pooling2d_13[0][0]']    \n",
            "                                                                                                  \n",
            " conv2d_43 (Conv2D)          (None, 32, 32, 8)            80        ['conv2d_42[0][0]']           \n",
            "                                                                                                  \n",
            " up_sampling2d_11 (UpSampli  (None, 64, 64, 8)            0         ['conv2d_43[0][0]']           \n",
            " ng2D)                                                                                            \n",
            "                                                                                                  \n",
            " concatenate_11 (Concatenat  (None, 64, 64, 16)           0         ['up_sampling2d_11[0][0]',    \n",
            " e)                                                                  'conv2d_41[0][0]']           \n",
            "                                                                                                  \n",
            " conv2d_44 (Conv2D)          (None, 64, 64, 64)           9280      ['concatenate_11[0][0]']      \n",
            "                                                                                                  \n",
            " up_sampling2d_12 (UpSampli  (None, 128, 128, 64)         0         ['conv2d_44[0][0]']           \n",
            " ng2D)                                                                                            \n",
            "                                                                                                  \n",
            " concatenate_12 (Concatenat  (None, 128, 128, 128)        0         ['up_sampling2d_12[0][0]',    \n",
            " e)                                                                  'conv2d_39[0][0]']           \n",
            "                                                                                                  \n",
            " conv2d_45 (Conv2D)          (None, 128, 128, 32)         36896     ['concatenate_12[0][0]']      \n",
            "                                                                                                  \n",
            " up_sampling2d_13 (UpSampli  (None, 256, 256, 32)         0         ['conv2d_45[0][0]']           \n",
            " ng2D)                                                                                            \n",
            "                                                                                                  \n",
            " concatenate_13 (Concatenat  (None, 256, 256, 64)         0         ['up_sampling2d_13[0][0]',    \n",
            " e)                                                                  'conv2d_37[0][0]']           \n",
            "                                                                                                  \n",
            " conv2d_46 (Conv2D)          (None, 256, 256, 3)          1731      ['concatenate_13[0][0]']      \n",
            "                                                                                                  \n",
            "==================================================================================================\n",
            "Total params: 196644 (768.14 KB)\n",
            "Trainable params: 196644 (768.14 KB)\n",
            "Non-trainable params: 0 (0.00 Byte)\n",
            "__________________________________________________________________________________________________\n"
          ]
        }
      ]
    },
    {
      "cell_type": "code",
      "source": [
        "history= autoencoder14.fit(train, train, epochs=10, batch_size=12, validation_data=(val, val))"
      ],
      "metadata": {
        "colab": {
          "base_uri": "https://localhost:8080/"
        },
        "id": "vQpWDRC0tw9r",
        "outputId": "332cda1d-7ae5-4af6-ee2e-a9570fa04431"
      },
      "execution_count": null,
      "outputs": [
        {
          "output_type": "stream",
          "name": "stdout",
          "text": [
            "Epoch 1/10\n",
            "13/13 [==============================] - 197s 15s/step - loss: 0.0594 - val_loss: 0.0558\n",
            "Epoch 2/10\n",
            "13/13 [==============================] - 123s 9s/step - loss: 0.0350 - val_loss: 0.0251\n",
            "Epoch 3/10\n",
            "13/13 [==============================] - 132s 10s/step - loss: 0.0206 - val_loss: 0.0160\n",
            "Epoch 4/10\n",
            "13/13 [==============================] - 114s 9s/step - loss: 0.0132 - val_loss: 0.0111\n",
            "Epoch 5/10\n",
            "13/13 [==============================] - 113s 9s/step - loss: 0.0091 - val_loss: 0.0085\n",
            "Epoch 6/10\n",
            "13/13 [==============================] - 159s 13s/step - loss: 0.0076 - val_loss: 0.0073\n",
            "Epoch 7/10\n",
            "13/13 [==============================] - 118s 9s/step - loss: 0.0074 - val_loss: 0.0084\n",
            "Epoch 8/10\n",
            "13/13 [==============================] - 117s 9s/step - loss: 0.0073 - val_loss: 0.0067\n",
            "Epoch 9/10\n",
            "13/13 [==============================] - 114s 9s/step - loss: 0.0061 - val_loss: 0.0059\n",
            "Epoch 10/10\n",
            "13/13 [==============================] - 111s 9s/step - loss: 0.0056 - val_loss: 0.0053\n"
          ]
        }
      ]
    },
    {
      "cell_type": "code",
      "source": [
        "# Plot training and validation loss\n",
        "plt.plot(history.history['loss'])\n",
        "plt.plot(history.history['val_loss'])\n",
        "plt.title('Model loss')\n",
        "plt.ylabel('Loss')\n",
        "plt.xlabel('Epoch')\n",
        "plt.legend(['Train', 'Validation'], loc='upper right')\n",
        "plt.show()"
      ],
      "metadata": {
        "colab": {
          "base_uri": "https://localhost:8080/",
          "height": 472
        },
        "id": "SobcD0QCt7Xt",
        "outputId": "a43b15b3-4ae0-48fa-ea8b-9457462b62a6"
      },
      "execution_count": null,
      "outputs": [
        {
          "output_type": "display_data",
          "data": {
            "text/plain": [
              "<Figure size 640x480 with 1 Axes>"
            ],
            "image/png": "[encoded data removed]"
          },
          "metadata": {}
        }
      ]
    },
    {
      "cell_type": "code",
      "source": [
        "test_pred= autoencoder14.predict(test)\n",
        "psnr_test=[]\n",
        "for i in range(0,100):\n",
        "  x= psnr(test[i],test_pred[i])\n",
        "  psnr_test.append(x)"
      ],
      "metadata": {
        "colab": {
          "base_uri": "https://localhost:8080/"
        },
        "id": "WYJztkVtyft7",
        "outputId": "6d393f56-9d6a-431a-8e6d-791da5ceddef"
      },
      "execution_count": null,
      "outputs": [
        {
          "output_type": "stream",
          "name": "stdout",
          "text": [
            "4/4 [==============================] - 28s 7s/step\n"
          ]
        }
      ]
    },
    {
      "cell_type": "code",
      "source": [
        "import statistics\n",
        "\n",
        "# Mean_test\n",
        "mean_value = statistics.mean(psnr_test)\n",
        "print(f\"MeanPSNR of test data: {mean_value}\")\n",
        "# Median_test\n",
        "median_value = statistics.median(psnr_test)\n",
        "print(f\"MedianPSNR of test data: {median_value}\")\n",
        "# Standard Deviation_test\n",
        "std_deviation = np.std(psnr_test)\n",
        "print(f\"Standard-DeviationPSNR of test data: {std_deviation}\")"
      ],
      "metadata": {
        "colab": {
          "base_uri": "https://localhost:8080/"
        },
        "id": "lIxcq60Fytb0",
        "outputId": "ccc8c453-0275-4b94-f0ba-c6fe326e8f06"
      },
      "execution_count": null,
      "outputs": [
        {
          "output_type": "stream",
          "name": "stdout",
          "text": [
            "MeanPSNR of test data: 36.13479215728033\n",
            "MedianPSNR of test data: 36.08745212187708\n",
            "Standard-DeviationPSNR of test data: 1.0218181342284247\n"
          ]
        }
      ]
    },
    {
      "cell_type": "code",
      "source": [
        "autoencoder14.save_weights('/content/drive/MyDrive/Colab Notebooks/TryingDiffArch2/arch14.h5')         # repo contains the weights of the model"
      ],
      "metadata": {
        "id": "odtgCQhA8nyb"
      },
      "execution_count": null,
      "outputs": []
    },
    {
      "cell_type": "markdown",
      "source": [
        "## 16x16x8: with Conv 1x1\n",
        "(16x16x1 : 256 in bottleneck)"
      ],
      "metadata": {
        "id": "gYd-phkCai19"
      }
    },
    {
      "cell_type": "code",
      "source": [
        "# Input layer for 256x256x3 images\n",
        "input_img = Input(shape=(256, 256, 3))\n",
        "\n",
        "# Encoder\n",
        "x1 = Conv2D(32, (3, 3), activation='relu', padding='same')(input_img)\n",
        "x1 = Conv2D(32, (3, 3), activation='relu', padding='same')(x1)\n",
        "p1 = MaxPooling2D((2, 2), padding='same')(x1)\n",
        "\n",
        "\n",
        "x2 = Conv2D(64, (3, 3), activation='relu', padding='same')(p1)\n",
        "x2 = Conv2D(64, (3, 3), activation='relu', padding='same')(x2)\n",
        "p2 = MaxPooling2D((2, 2), padding='same')(x2)\n",
        "\n",
        "\n",
        "x3 = Conv2D(128, (3, 3), activation='relu', padding='same')(p2)\n",
        "x3 = Conv2D(128, (3, 3), activation='relu', padding='same')(x3)\n",
        "p3 = MaxPooling2D((2, 2), padding='same')(x3)\n",
        "\n",
        "x4 = Conv2D(128, (3, 3), activation='relu', padding='same')(p3)    #learning even further\n",
        "x4 = Conv2D(8, (3, 3), activation='relu', padding='same')(x4)\n",
        "\n",
        "#bottleneck\n",
        "encoded = MaxPooling2D((2, 2), padding='same')(x4)\n",
        "\n",
        "# 1x1 Conv layer\n",
        "x1x1= Conv2D(1,(1,1),activation='relu',padding='same')(encoded)\n",
        "\n",
        "# Decoder\n",
        "x = Conv2D(8, (3, 3), activation='relu', padding='same')(x1x1)\n",
        "x = UpSampling2D((2, 2))(x)\n",
        "x = concatenate([x, x4], axis=-1)  # Adding skip connection\n",
        "x = Conv2D(128, (3, 3), activation='relu', padding='same')(x)\n",
        "x = UpSampling2D((2, 2))(x)\n",
        "x = concatenate([x, x3], axis=-1)  # Adding skip connection\n",
        "x = Conv2D(64, (3, 3), activation='relu', padding='same')(x)\n",
        "x = UpSampling2D((2, 2))(x)\n",
        "x = concatenate([x, x2], axis=-1)  # Adding skip connection\n",
        "x = Conv2D(32, (3, 3), activation='relu', padding='same')(x)\n",
        "x = UpSampling2D((2, 2))(x)\n",
        "x = concatenate([x, x1], axis=-1)  # Adding skip connection\n",
        "decoded = Conv2D(3, (3, 3), activation='sigmoid', padding='same')(x)\n",
        "\n",
        "autoencoder16 = Model(input_img,decoded)\n",
        "autoencoder16.compile(optimizer='adam', loss='mse')\n",
        "autoencoder16.summary()"
      ],
      "metadata": {
        "colab": {
          "base_uri": "https://localhost:8080/"
        },
        "outputId": "f362c421-ada9-4446-9881-e302a9e02c98",
        "id": "McMB1VfXai1-"
      },
      "execution_count": null,
      "outputs": [
        {
          "output_type": "stream",
          "name": "stdout",
          "text": [
            "Model: \"model_8\"\n",
            "__________________________________________________________________________________________________\n",
            " Layer (type)                Output Shape                 Param #   Connected to                  \n",
            "==================================================================================================\n",
            " input_9 (InputLayer)        [(None, 256, 256, 3)]        0         []                            \n",
            "                                                                                                  \n",
            " conv2d_97 (Conv2D)          (None, 256, 256, 32)         896       ['input_9[0][0]']             \n",
            "                                                                                                  \n",
            " conv2d_98 (Conv2D)          (None, 256, 256, 32)         9248      ['conv2d_97[0][0]']           \n",
            "                                                                                                  \n",
            " max_pooling2d_28 (MaxPooli  (None, 128, 128, 32)         0         ['conv2d_98[0][0]']           \n",
            " ng2D)                                                                                            \n",
            "                                                                                                  \n",
            " conv2d_99 (Conv2D)          (None, 128, 128, 64)         18496     ['max_pooling2d_28[0][0]']    \n",
            "                                                                                                  \n",
            " conv2d_100 (Conv2D)         (None, 128, 128, 64)         36928     ['conv2d_99[0][0]']           \n",
            "                                                                                                  \n",
            " max_pooling2d_29 (MaxPooli  (None, 64, 64, 64)           0         ['conv2d_100[0][0]']          \n",
            " ng2D)                                                                                            \n",
            "                                                                                                  \n",
            " conv2d_101 (Conv2D)         (None, 64, 64, 128)          73856     ['max_pooling2d_29[0][0]']    \n",
            "                                                                                                  \n",
            " conv2d_102 (Conv2D)         (None, 64, 64, 128)          147584    ['conv2d_101[0][0]']          \n",
            "                                                                                                  \n",
            " max_pooling2d_30 (MaxPooli  (None, 32, 32, 128)          0         ['conv2d_102[0][0]']          \n",
            " ng2D)                                                                                            \n",
            "                                                                                                  \n",
            " conv2d_103 (Conv2D)         (None, 32, 32, 128)          147584    ['max_pooling2d_30[0][0]']    \n",
            "                                                                                                  \n",
            " conv2d_104 (Conv2D)         (None, 32, 32, 8)            9224      ['conv2d_103[0][0]']          \n",
            "                                                                                                  \n",
            " max_pooling2d_31 (MaxPooli  (None, 16, 16, 8)            0         ['conv2d_104[0][0]']          \n",
            " ng2D)                                                                                            \n",
            "                                                                                                  \n",
            " conv2d_105 (Conv2D)         (None, 16, 16, 1)            9         ['max_pooling2d_31[0][0]']    \n",
            "                                                                                                  \n",
            " conv2d_106 (Conv2D)         (None, 16, 16, 8)            80        ['conv2d_105[0][0]']          \n",
            "                                                                                                  \n",
            " up_sampling2d_28 (UpSampli  (None, 32, 32, 8)            0         ['conv2d_106[0][0]']          \n",
            " ng2D)                                                                                            \n",
            "                                                                                                  \n",
            " concatenate_28 (Concatenat  (None, 32, 32, 16)           0         ['up_sampling2d_28[0][0]',    \n",
            " e)                                                                  'conv2d_104[0][0]']          \n",
            "                                                                                                  \n",
            " conv2d_107 (Conv2D)         (None, 32, 32, 128)          18560     ['concatenate_28[0][0]']      \n",
            "                                                                                                  \n",
            " up_sampling2d_29 (UpSampli  (None, 64, 64, 128)          0         ['conv2d_107[0][0]']          \n",
            " ng2D)                                                                                            \n",
            "                                                                                                  \n",
            " concatenate_29 (Concatenat  (None, 64, 64, 256)          0         ['up_sampling2d_29[0][0]',    \n",
            " e)                                                                  'conv2d_102[0][0]']          \n",
            "                                                                                                  \n",
            " conv2d_108 (Conv2D)         (None, 64, 64, 64)           147520    ['concatenate_29[0][0]']      \n",
            "                                                                                                  \n",
            " up_sampling2d_30 (UpSampli  (None, 128, 128, 64)         0         ['conv2d_108[0][0]']          \n",
            " ng2D)                                                                                            \n",
            "                                                                                                  \n",
            " concatenate_30 (Concatenat  (None, 128, 128, 128)        0         ['up_sampling2d_30[0][0]',    \n",
            " e)                                                                  'conv2d_100[0][0]']          \n",
            "                                                                                                  \n",
            " conv2d_109 (Conv2D)         (None, 128, 128, 32)         36896     ['concatenate_30[0][0]']      \n",
            "                                                                                                  \n",
            " up_sampling2d_31 (UpSampli  (None, 256, 256, 32)         0         ['conv2d_109[0][0]']          \n",
            " ng2D)                                                                                            \n",
            "                                                                                                  \n",
            " concatenate_31 (Concatenat  (None, 256, 256, 64)         0         ['up_sampling2d_31[0][0]',    \n",
            " e)                                                                  'conv2d_98[0][0]']           \n",
            "                                                                                                  \n",
            " conv2d_110 (Conv2D)         (None, 256, 256, 3)          1731      ['concatenate_31[0][0]']      \n",
            "                                                                                                  \n",
            "==================================================================================================\n",
            "Total params: 648612 (2.47 MB)\n",
            "Trainable params: 648612 (2.47 MB)\n",
            "Non-trainable params: 0 (0.00 Byte)\n",
            "__________________________________________________________________________________________________\n"
          ]
        }
      ]
    },
    {
      "cell_type": "code",
      "source": [
        "history= autoencoder16.fit(train, train, epochs=10, batch_size=12, validation_data=(val, val))"
      ],
      "metadata": {
        "colab": {
          "base_uri": "https://localhost:8080/"
        },
        "outputId": "a89c7d9c-7048-44e3-9407-acf804402ba8",
        "id": "-h18dXEvai1_"
      },
      "execution_count": null,
      "outputs": [
        {
          "output_type": "stream",
          "name": "stdout",
          "text": [
            "Epoch 1/10\n",
            "13/13 [==============================] - 146s 11s/step - loss: 0.0636 - val_loss: 0.0638\n",
            "Epoch 2/10\n",
            "13/13 [==============================] - 139s 11s/step - loss: 0.0446 - val_loss: 0.0265\n",
            "Epoch 3/10\n",
            "13/13 [==============================] - 137s 11s/step - loss: 0.0227 - val_loss: 0.0158\n",
            "Epoch 4/10\n",
            "13/13 [==============================] - 142s 11s/step - loss: 0.0133 - val_loss: 0.0117\n",
            "Epoch 5/10\n",
            "13/13 [==============================] - 137s 11s/step - loss: 0.0098 - val_loss: 0.0101\n",
            "Epoch 6/10\n",
            "13/13 [==============================] - 137s 11s/step - loss: 0.0082 - val_loss: 0.0087\n",
            "Epoch 7/10\n",
            "13/13 [==============================] - 138s 11s/step - loss: 0.0073 - val_loss: 0.0067\n",
            "Epoch 8/10\n",
            "13/13 [==============================] - 140s 11s/step - loss: 0.0062 - val_loss: 0.0061\n",
            "Epoch 9/10\n",
            "13/13 [==============================] - 139s 11s/step - loss: 0.0055 - val_loss: 0.0054\n",
            "Epoch 10/10\n",
            "13/13 [==============================] - 136s 11s/step - loss: 0.0048 - val_loss: 0.0048\n"
          ]
        }
      ]
    },
    {
      "cell_type": "code",
      "source": [
        "# Plot training and validation loss\n",
        "plt.plot(history.history['loss'])\n",
        "plt.plot(history.history['val_loss'])\n",
        "plt.title('Model loss')\n",
        "plt.ylabel('Loss')\n",
        "plt.xlabel('Epoch')\n",
        "plt.legend(['Train', 'Validation'], loc='upper right')\n",
        "plt.show()"
      ],
      "metadata": {
        "colab": {
          "base_uri": "https://localhost:8080/",
          "height": 472
        },
        "outputId": "bc861e80-216e-425f-c9c0-37e1c1b34270",
        "id": "stvfnzzLai1_"
      },
      "execution_count": null,
      "outputs": [
        {
          "output_type": "display_data",
          "data": {
            "text/plain": [
              "<Figure size 640x480 with 1 Axes>"
            ],
            "image/png": "[encoded data removed]"
          },
          "metadata": {}
        }
      ]
    },
    {
      "cell_type": "code",
      "source": [
        "test_pred= autoencoder16.predict(test)\n",
        "psnr_test=[]\n",
        "for i in range(0,100):\n",
        "  x= psnr(test[i],test_pred[i])\n",
        "  psnr_test.append(x)"
      ],
      "metadata": {
        "colab": {
          "base_uri": "https://localhost:8080/"
        },
        "outputId": "38f5599a-95e3-4846-9d6e-172515056ff8",
        "id": "K9aA_SqGai2A"
      },
      "execution_count": null,
      "outputs": [
        {
          "output_type": "stream",
          "name": "stdout",
          "text": [
            "4/4 [==============================] - 43s 10s/step\n"
          ]
        }
      ]
    },
    {
      "cell_type": "code",
      "source": [
        "import statistics\n",
        "\n",
        "# Mean_test\n",
        "mean_value = statistics.mean(psnr_test)\n",
        "print(f\"MeanPSNR of test data: {mean_value}\")\n",
        "# Median_test\n",
        "median_value = statistics.median(psnr_test)\n",
        "print(f\"MedianPSNR of test data: {median_value}\")\n",
        "# Standard Deviation_test\n",
        "std_deviation = np.std(psnr_test)\n",
        "print(f\"Standard-DeviationPSNR of test data: {std_deviation}\")"
      ],
      "metadata": {
        "colab": {
          "base_uri": "https://localhost:8080/"
        },
        "outputId": "f8114c7a-f0bc-4a17-da13-f3a7955fc658",
        "id": "m0Jjkz-9ai2A"
      },
      "execution_count": null,
      "outputs": [
        {
          "output_type": "stream",
          "name": "stdout",
          "text": [
            "MeanPSNR of test data: 36.03764711130968\n",
            "MedianPSNR of test data: 35.89103796680377\n",
            "Standard-DeviationPSNR of test data: 1.1565666282944786\n"
          ]
        }
      ]
    },
    {
      "cell_type": "code",
      "source": [
        "autoencoder16.save_weights('/content/drive/MyDrive/Colab Notebooks/TryingDiffArch2/arch16.h5')        # repo contains the weights of the model"
      ],
      "metadata": {
        "id": "miF57laMai2B"
      },
      "execution_count": null,
      "outputs": []
    },
    {
      "cell_type": "markdown",
      "source": [
        "## 8x8x8: with Conv 1x1\n",
        "(8x8x1 : 64 in bottleneck)"
      ],
      "metadata": {
        "id": "zpxeSn6hakOH"
      }
    },
    {
      "cell_type": "code",
      "source": [
        "# Input layer for 256x256x3 images\n",
        "input_img = Input(shape=(256, 256, 3))\n",
        "\n",
        "# Encoder\n",
        "x1 = Conv2D(32, (3, 3), activation='relu', padding='same')(input_img)\n",
        "x1 = Conv2D(32, (3, 3), activation='relu', padding='same')(x1)\n",
        "p1 = MaxPooling2D((2, 2), padding='same')(x1)\n",
        "\n",
        "\n",
        "x2 = Conv2D(64, (3, 3), activation='relu', padding='same')(p1)\n",
        "x2 = Conv2D(64, (3, 3), activation='relu', padding='same')(x2)\n",
        "p2 = MaxPooling2D((2, 2), padding='same')(x2)\n",
        "\n",
        "\n",
        "x3 = Conv2D(128, (3, 3), activation='relu', padding='same')(p2)\n",
        "x3 = Conv2D(128, (3, 3), activation='relu', padding='same')(x3)\n",
        "p3 = MaxPooling2D((2, 2), padding='same')(x3)\n",
        "\n",
        "x4 = Conv2D(128, (3, 3), activation='relu', padding='same')(p3)\n",
        "x4 = Conv2D(128, (3, 3), activation='relu', padding='same')(x4)\n",
        "p4 = MaxPooling2D((2, 2), padding='same')(x4)\n",
        "\n",
        "x5 = Conv2D(128, (3, 3), activation='relu', padding='same')(p4)\n",
        "x5 = Conv2D(8, (3, 3), activation='relu', padding='same')(x5)\n",
        "\n",
        "#bottleneck\n",
        "encoded = MaxPooling2D((2, 2), padding='same')(x5)\n",
        "\n",
        "# 1x1 Conv\n",
        "x1x1= Conv2D(1, (1,1), activation='relu', padding='same')(encoded)\n",
        "\n",
        "# Decoder\n",
        "x = Conv2D(8, (3, 3), activation='relu', padding='same')(x1x1)\n",
        "x = UpSampling2D((2, 2))(x)\n",
        "x = concatenate([x, x5], axis=-1)  # Adding skip connection\n",
        "x = Conv2D(128, (3, 3), activation='relu', padding='same')(x)\n",
        "x = UpSampling2D((2, 2))(x)\n",
        "x = concatenate([x, x4], axis=-1)  # Adding skip connection\n",
        "x = Conv2D(128, (3, 3), activation='relu', padding='same')(x)\n",
        "x = UpSampling2D((2, 2))(x)\n",
        "x = concatenate([x, x3], axis=-1)  # Adding skip connection\n",
        "x = Conv2D(64, (3, 3), activation='relu', padding='same')(x)\n",
        "x = UpSampling2D((2, 2))(x)\n",
        "x = concatenate([x, x2], axis=-1)  # Adding skip connection\n",
        "x = Conv2D(32, (3, 3), activation='relu', padding='same')(x)\n",
        "x = UpSampling2D((2, 2))(x)\n",
        "x = concatenate([x, x1], axis=-1)  # Adding skip connection\n",
        "decoded = Conv2D(3, (3, 3), activation='sigmoid', padding='same')(x)\n",
        "\n",
        "autoencoder18 = Model(input_img,decoded)\n",
        "autoencoder18.compile(optimizer='adam', loss='mse')\n",
        "autoencoder18.summary()"
      ],
      "metadata": {
        "colab": {
          "base_uri": "https://localhost:8080/"
        },
        "id": "MwPPbGEJ8ly0",
        "outputId": "85c498b8-5f47-4386-e82d-795a9ed2ecb9"
      },
      "execution_count": null,
      "outputs": [
        {
          "output_type": "stream",
          "name": "stdout",
          "text": [
            "Model: \"model\"\n",
            "__________________________________________________________________________________________________\n",
            " Layer (type)                Output Shape                 Param #   Connected to                  \n",
            "==================================================================================================\n",
            " input_1 (InputLayer)        [(None, 256, 256, 3)]        0         []                            \n",
            "                                                                                                  \n",
            " conv2d (Conv2D)             (None, 256, 256, 32)         896       ['input_1[0][0]']             \n",
            "                                                                                                  \n",
            " conv2d_1 (Conv2D)           (None, 256, 256, 32)         9248      ['conv2d[0][0]']              \n",
            "                                                                                                  \n",
            " max_pooling2d (MaxPooling2  (None, 128, 128, 32)         0         ['conv2d_1[0][0]']            \n",
            " D)                                                                                               \n",
            "                                                                                                  \n",
            " conv2d_2 (Conv2D)           (None, 128, 128, 64)         18496     ['max_pooling2d[0][0]']       \n",
            "                                                                                                  \n",
            " conv2d_3 (Conv2D)           (None, 128, 128, 64)         36928     ['conv2d_2[0][0]']            \n",
            "                                                                                                  \n",
            " max_pooling2d_1 (MaxPoolin  (None, 64, 64, 64)           0         ['conv2d_3[0][0]']            \n",
            " g2D)                                                                                             \n",
            "                                                                                                  \n",
            " conv2d_4 (Conv2D)           (None, 64, 64, 128)          73856     ['max_pooling2d_1[0][0]']     \n",
            "                                                                                                  \n",
            " conv2d_5 (Conv2D)           (None, 64, 64, 128)          147584    ['conv2d_4[0][0]']            \n",
            "                                                                                                  \n",
            " max_pooling2d_2 (MaxPoolin  (None, 32, 32, 128)          0         ['conv2d_5[0][0]']            \n",
            " g2D)                                                                                             \n",
            "                                                                                                  \n",
            " conv2d_6 (Conv2D)           (None, 32, 32, 128)          147584    ['max_pooling2d_2[0][0]']     \n",
            "                                                                                                  \n",
            " conv2d_7 (Conv2D)           (None, 32, 32, 128)          147584    ['conv2d_6[0][0]']            \n",
            "                                                                                                  \n",
            " max_pooling2d_3 (MaxPoolin  (None, 16, 16, 128)          0         ['conv2d_7[0][0]']            \n",
            " g2D)                                                                                             \n",
            "                                                                                                  \n",
            " conv2d_8 (Conv2D)           (None, 16, 16, 128)          147584    ['max_pooling2d_3[0][0]']     \n",
            "                                                                                                  \n",
            " conv2d_9 (Conv2D)           (None, 16, 16, 8)            9224      ['conv2d_8[0][0]']            \n",
            "                                                                                                  \n",
            " max_pooling2d_4 (MaxPoolin  (None, 8, 8, 8)              0         ['conv2d_9[0][0]']            \n",
            " g2D)                                                                                             \n",
            "                                                                                                  \n",
            " conv2d_10 (Conv2D)          (None, 8, 8, 1)              9         ['max_pooling2d_4[0][0]']     \n",
            "                                                                                                  \n",
            " conv2d_11 (Conv2D)          (None, 8, 8, 8)              80        ['conv2d_10[0][0]']           \n",
            "                                                                                                  \n",
            " up_sampling2d (UpSampling2  (None, 16, 16, 8)            0         ['conv2d_11[0][0]']           \n",
            " D)                                                                                               \n",
            "                                                                                                  \n",
            " concatenate (Concatenate)   (None, 16, 16, 16)           0         ['up_sampling2d[0][0]',       \n",
            "                                                                     'conv2d_9[0][0]']            \n",
            "                                                                                                  \n",
            " conv2d_12 (Conv2D)          (None, 16, 16, 128)          18560     ['concatenate[0][0]']         \n",
            "                                                                                                  \n",
            " up_sampling2d_1 (UpSamplin  (None, 32, 32, 128)          0         ['conv2d_12[0][0]']           \n",
            " g2D)                                                                                             \n",
            "                                                                                                  \n",
            " concatenate_1 (Concatenate  (None, 32, 32, 256)          0         ['up_sampling2d_1[0][0]',     \n",
            " )                                                                   'conv2d_7[0][0]']            \n",
            "                                                                                                  \n",
            " conv2d_13 (Conv2D)          (None, 32, 32, 128)          295040    ['concatenate_1[0][0]']       \n",
            "                                                                                                  \n",
            " up_sampling2d_2 (UpSamplin  (None, 64, 64, 128)          0         ['conv2d_13[0][0]']           \n",
            " g2D)                                                                                             \n",
            "                                                                                                  \n",
            " concatenate_2 (Concatenate  (None, 64, 64, 256)          0         ['up_sampling2d_2[0][0]',     \n",
            " )                                                                   'conv2d_5[0][0]']            \n",
            "                                                                                                  \n",
            " conv2d_14 (Conv2D)          (None, 64, 64, 64)           147520    ['concatenate_2[0][0]']       \n",
            "                                                                                                  \n",
            " up_sampling2d_3 (UpSamplin  (None, 128, 128, 64)         0         ['conv2d_14[0][0]']           \n",
            " g2D)                                                                                             \n",
            "                                                                                                  \n",
            " concatenate_3 (Concatenate  (None, 128, 128, 128)        0         ['up_sampling2d_3[0][0]',     \n",
            " )                                                                   'conv2d_3[0][0]']            \n",
            "                                                                                                  \n",
            " conv2d_15 (Conv2D)          (None, 128, 128, 32)         36896     ['concatenate_3[0][0]']       \n",
            "                                                                                                  \n",
            " up_sampling2d_4 (UpSamplin  (None, 256, 256, 32)         0         ['conv2d_15[0][0]']           \n",
            " g2D)                                                                                             \n",
            "                                                                                                  \n",
            " concatenate_4 (Concatenate  (None, 256, 256, 64)         0         ['up_sampling2d_4[0][0]',     \n",
            " )                                                                   'conv2d_1[0][0]']            \n",
            "                                                                                                  \n",
            " conv2d_16 (Conv2D)          (None, 256, 256, 3)          1731      ['concatenate_4[0][0]']       \n",
            "                                                                                                  \n",
            "==================================================================================================\n",
            "Total params: 1238820 (4.73 MB)\n",
            "Trainable params: 1238820 (4.73 MB)\n",
            "Non-trainable params: 0 (0.00 Byte)\n",
            "__________________________________________________________________________________________________\n"
          ]
        }
      ]
    },
    {
      "cell_type": "code",
      "source": [
        "history= autoencoder18.fit(train, train, epochs=10, batch_size=12, validation_data=(val, val))"
      ],
      "metadata": {
        "colab": {
          "base_uri": "https://localhost:8080/"
        },
        "id": "lWjv3ftP85tY",
        "outputId": "2205e9ca-97ce-47fd-df44-2fda8fe55b72"
      },
      "execution_count": null,
      "outputs": [
        {
          "output_type": "stream",
          "name": "stdout",
          "text": [
            "Epoch 1/10\n",
            "13/13 [==============================] - 242s 17s/step - loss: 0.0508 - val_loss: 0.0347\n",
            "Epoch 2/10\n",
            "13/13 [==============================] - 151s 12s/step - loss: 0.0309 - val_loss: 0.0200\n",
            "Epoch 3/10\n",
            "13/13 [==============================] - 166s 13s/step - loss: 0.0161 - val_loss: 0.0132\n",
            "Epoch 4/10\n",
            "13/13 [==============================] - 163s 13s/step - loss: 0.0106 - val_loss: 0.0092\n",
            "Epoch 5/10\n",
            "13/13 [==============================] - 154s 12s/step - loss: 0.0080 - val_loss: 0.0073\n",
            "Epoch 6/10\n",
            "13/13 [==============================] - 153s 12s/step - loss: 0.0070 - val_loss: 0.0065\n",
            "Epoch 7/10\n",
            "13/13 [==============================] - 151s 12s/step - loss: 0.0055 - val_loss: 0.0049\n",
            "Epoch 8/10\n",
            "13/13 [==============================] - 154s 12s/step - loss: 0.0044 - val_loss: 0.0041\n",
            "Epoch 9/10\n",
            "13/13 [==============================] - 161s 12s/step - loss: 0.0037 - val_loss: 0.0033\n",
            "Epoch 10/10\n",
            "13/13 [==============================] - 164s 13s/step - loss: 0.0035 - val_loss: 0.0028\n"
          ]
        }
      ]
    },
    {
      "cell_type": "code",
      "source": [
        "# Plot training and validation loss\n",
        "plt.plot(history.history['loss'])\n",
        "plt.plot(history.history['val_loss'])\n",
        "plt.title('Model loss')\n",
        "plt.ylabel('Loss')\n",
        "plt.xlabel('Epoch')\n",
        "plt.legend(['Train', 'Validation'], loc='upper right')\n",
        "plt.show()"
      ],
      "metadata": {
        "colab": {
          "base_uri": "https://localhost:8080/",
          "height": 472
        },
        "id": "AM8Ugmdl85qg",
        "outputId": "1212d73a-329f-40b3-b8de-c10cab70c72a"
      },
      "execution_count": null,
      "outputs": [
        {
          "output_type": "display_data",
          "data": {
            "text/plain": [
              "<Figure size 640x480 with 1 Axes>"
            ],
            "image/png": "[encoded data removed]"
          },
          "metadata": {}
        }
      ]
    },
    {
      "cell_type": "code",
      "source": [
        "test_pred= autoencoder18.predict(test)\n",
        "psnr_test=[]\n",
        "for i in range(0,100):\n",
        "  x= psnr(test[i],test_pred[i])\n",
        "  psnr_test.append(x)"
      ],
      "metadata": {
        "colab": {
          "base_uri": "https://localhost:8080/"
        },
        "id": "Qqej_1ZQ85m1",
        "outputId": "db3f3de6-5cd1-42d2-c1f4-94aaae590f4f"
      },
      "execution_count": null,
      "outputs": [
        {
          "output_type": "stream",
          "name": "stdout",
          "text": [
            "4/4 [==============================] - 28s 6s/step\n"
          ]
        }
      ]
    },
    {
      "cell_type": "code",
      "source": [
        "import statistics\n",
        "\n",
        "# Mean_test\n",
        "mean_value = statistics.mean(psnr_test)\n",
        "print(f\"MeanPSNR of test data: {mean_value}\")\n",
        "# Median_test\n",
        "median_value = statistics.median(psnr_test)\n",
        "print(f\"MedianPSNR of test data: {median_value}\")\n",
        "# Standard Deviation_test\n",
        "std_deviation = np.std(psnr_test)\n",
        "print(f\"Standard-DeviationPSNR of test data: {std_deviation}\")"
      ],
      "metadata": {
        "colab": {
          "base_uri": "https://localhost:8080/"
        },
        "id": "bpb0pgnYqxzL",
        "outputId": "14a056f1-ad73-4231-b0fe-827c604e715a"
      },
      "execution_count": null,
      "outputs": [
        {
          "output_type": "stream",
          "name": "stdout",
          "text": [
            "MeanPSNR of test data: 37.15222838373802\n",
            "MedianPSNR of test data: 37.04683025949657\n",
            "Standard-DeviationPSNR of test data: 1.1384521257955986\n"
          ]
        }
      ]
    },
    {
      "cell_type": "code",
      "source": [
        "autoencoder18.save_weights('/content/drive/MyDrive/Colab Notebooks/TryingDiffArch2/arch18.h5')           # repo contains the weights of the model"
      ],
      "metadata": {
        "id": "nwHsndRWqxwn"
      },
      "execution_count": null,
      "outputs": []
    }
  ]
}